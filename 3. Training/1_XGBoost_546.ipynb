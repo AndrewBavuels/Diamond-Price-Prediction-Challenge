{
 "cells": [
  {
   "cell_type": "code",
   "execution_count": 2,
   "id": "11a79133",
   "metadata": {},
   "outputs": [],
   "source": [
    "import matplotlib.pyplot as plt\n",
    "import random\n",
    "import numpy as np\n",
    "import pandas as pd\n",
    "from sklearn.model_selection import train_test_split\n",
    "from sklearn.ensemble import RandomForestRegressor\n",
    "from sklearn.metrics import mean_squared_error, f1_score, precision_score, recall_score, roc_auc_score\n",
    "from sklearn.preprocessing import RobustScaler, StandardScaler\n",
    "from sklearn.linear_model import LogisticRegression\n",
    "from sklearn.neural_network import MLPClassifier\n",
    "from sklearn.model_selection import GridSearchCV\n",
    "from sklearn.pipeline import Pipeline\n",
    "from sklearn.neighbors import KNeighborsClassifier\n",
    "\n",
    "pipe = Pipeline([('classifier', KNeighborsClassifier)])\n",
    "\n",
    "%matplotlib inline"
   ]
  },
  {
   "cell_type": "code",
   "execution_count": 21,
   "id": "e70f21c9",
   "metadata": {},
   "outputs": [
    {
     "data": {
      "text/html": [
       "<div>\n",
       "<style scoped>\n",
       "    .dataframe tbody tr th:only-of-type {\n",
       "        vertical-align: middle;\n",
       "    }\n",
       "\n",
       "    .dataframe tbody tr th {\n",
       "        vertical-align: top;\n",
       "    }\n",
       "\n",
       "    .dataframe thead th {\n",
       "        text-align: right;\n",
       "    }\n",
       "</style>\n",
       "<table border=\"1\" class=\"dataframe\">\n",
       "  <thead>\n",
       "    <tr style=\"text-align: right;\">\n",
       "      <th></th>\n",
       "      <th>city</th>\n",
       "      <th>cut</th>\n",
       "      <th>color</th>\n",
       "      <th>clarity</th>\n",
       "      <th>carat</th>\n",
       "      <th>depth</th>\n",
       "      <th>table</th>\n",
       "    </tr>\n",
       "  </thead>\n",
       "  <tbody>\n",
       "    <tr>\n",
       "      <th>0</th>\n",
       "      <td>-1.000000</td>\n",
       "      <td>2</td>\n",
       "      <td>-0.333333</td>\n",
       "      <td>-0.666667</td>\n",
       "      <td>0.140625</td>\n",
       "      <td>0.600000</td>\n",
       "      <td>1.000000</td>\n",
       "    </tr>\n",
       "    <tr>\n",
       "      <th>1</th>\n",
       "      <td>0.666667</td>\n",
       "      <td>0</td>\n",
       "      <td>1.000000</td>\n",
       "      <td>0.000000</td>\n",
       "      <td>0.781250</td>\n",
       "      <td>-0.533333</td>\n",
       "      <td>0.000000</td>\n",
       "    </tr>\n",
       "    <tr>\n",
       "      <th>2</th>\n",
       "      <td>-0.500000</td>\n",
       "      <td>1</td>\n",
       "      <td>0.333333</td>\n",
       "      <td>-0.666667</td>\n",
       "      <td>1.359375</td>\n",
       "      <td>0.266667</td>\n",
       "      <td>1.333333</td>\n",
       "    </tr>\n",
       "    <tr>\n",
       "      <th>3</th>\n",
       "      <td>-0.500000</td>\n",
       "      <td>2</td>\n",
       "      <td>-0.333333</td>\n",
       "      <td>-0.666667</td>\n",
       "      <td>0.312500</td>\n",
       "      <td>1.333333</td>\n",
       "      <td>-1.000000</td>\n",
       "    </tr>\n",
       "    <tr>\n",
       "      <th>4</th>\n",
       "      <td>-1.000000</td>\n",
       "      <td>2</td>\n",
       "      <td>-0.333333</td>\n",
       "      <td>0.000000</td>\n",
       "      <td>-0.312500</td>\n",
       "      <td>0.733333</td>\n",
       "      <td>0.333333</td>\n",
       "    </tr>\n",
       "  </tbody>\n",
       "</table>\n",
       "</div>"
      ],
      "text/plain": [
       "       city  cut     color   clarity     carat     depth     table\n",
       "0 -1.000000    2 -0.333333 -0.666667  0.140625  0.600000  1.000000\n",
       "1  0.666667    0  1.000000  0.000000  0.781250 -0.533333  0.000000\n",
       "2 -0.500000    1  0.333333 -0.666667  1.359375  0.266667  1.333333\n",
       "3 -0.500000    2 -0.333333 -0.666667  0.312500  1.333333 -1.000000\n",
       "4 -1.000000    2 -0.333333  0.000000 -0.312500  0.733333  0.333333"
      ]
     },
     "execution_count": 21,
     "metadata": {},
     "output_type": "execute_result"
    }
   ],
   "source": [
    "diamonds_test = pd.read_csv('diamonds_test_rob_scl.csv')\n",
    "diamonds_test.head()"
   ]
  },
  {
   "cell_type": "code",
   "execution_count": 22,
   "id": "df0d856d",
   "metadata": {},
   "outputs": [
    {
     "data": {
      "text/html": [
       "<div>\n",
       "<style scoped>\n",
       "    .dataframe tbody tr th:only-of-type {\n",
       "        vertical-align: middle;\n",
       "    }\n",
       "\n",
       "    .dataframe tbody tr th {\n",
       "        vertical-align: top;\n",
       "    }\n",
       "\n",
       "    .dataframe thead th {\n",
       "        text-align: right;\n",
       "    }\n",
       "</style>\n",
       "<table border=\"1\" class=\"dataframe\">\n",
       "  <thead>\n",
       "    <tr style=\"text-align: right;\">\n",
       "      <th></th>\n",
       "      <th>city</th>\n",
       "      <th>cut</th>\n",
       "      <th>color</th>\n",
       "      <th>clarity</th>\n",
       "      <th>carat</th>\n",
       "      <th>depth</th>\n",
       "      <th>table</th>\n",
       "      <th>price</th>\n",
       "    </tr>\n",
       "  </thead>\n",
       "  <tbody>\n",
       "    <tr>\n",
       "      <th>0</th>\n",
       "      <td>-0.666667</td>\n",
       "      <td>1</td>\n",
       "      <td>1.000000</td>\n",
       "      <td>0.333333</td>\n",
       "      <td>0.796875</td>\n",
       "      <td>0.400000</td>\n",
       "      <td>0.333333</td>\n",
       "      <td>4268</td>\n",
       "    </tr>\n",
       "    <tr>\n",
       "      <th>1</th>\n",
       "      <td>-0.500000</td>\n",
       "      <td>2</td>\n",
       "      <td>0.333333</td>\n",
       "      <td>0.333333</td>\n",
       "      <td>-0.593750</td>\n",
       "      <td>0.800000</td>\n",
       "      <td>0.000000</td>\n",
       "      <td>505</td>\n",
       "    </tr>\n",
       "    <tr>\n",
       "      <th>2</th>\n",
       "      <td>-0.333333</td>\n",
       "      <td>-2</td>\n",
       "      <td>0.000000</td>\n",
       "      <td>0.000000</td>\n",
       "      <td>0.015625</td>\n",
       "      <td>2.466667</td>\n",
       "      <td>-0.666667</td>\n",
       "      <td>2686</td>\n",
       "    </tr>\n",
       "    <tr>\n",
       "      <th>3</th>\n",
       "      <td>-0.500000</td>\n",
       "      <td>-1</td>\n",
       "      <td>-1.000000</td>\n",
       "      <td>-0.666667</td>\n",
       "      <td>-0.453125</td>\n",
       "      <td>1.333333</td>\n",
       "      <td>-0.333333</td>\n",
       "      <td>738</td>\n",
       "    </tr>\n",
       "    <tr>\n",
       "      <th>4</th>\n",
       "      <td>-0.666667</td>\n",
       "      <td>0</td>\n",
       "      <td>0.000000</td>\n",
       "      <td>-0.666667</td>\n",
       "      <td>0.500000</td>\n",
       "      <td>-0.866667</td>\n",
       "      <td>0.666667</td>\n",
       "      <td>4882</td>\n",
       "    </tr>\n",
       "  </tbody>\n",
       "</table>\n",
       "</div>"
      ],
      "text/plain": [
       "       city  cut     color   clarity     carat     depth     table  price\n",
       "0 -0.666667    1  1.000000  0.333333  0.796875  0.400000  0.333333   4268\n",
       "1 -0.500000    2  0.333333  0.333333 -0.593750  0.800000  0.000000    505\n",
       "2 -0.333333   -2  0.000000  0.000000  0.015625  2.466667 -0.666667   2686\n",
       "3 -0.500000   -1 -1.000000 -0.666667 -0.453125  1.333333 -0.333333    738\n",
       "4 -0.666667    0  0.000000 -0.666667  0.500000 -0.866667  0.666667   4882"
      ]
     },
     "execution_count": 22,
     "metadata": {},
     "output_type": "execute_result"
    }
   ],
   "source": [
    "diamonds_train = pd.read_csv('diamonds_train_rob_scl.csv')\n",
    "diamonds_train.head()"
   ]
  },
  {
   "cell_type": "code",
   "execution_count": 23,
   "id": "2b77619e",
   "metadata": {},
   "outputs": [],
   "source": [
    "X = diamonds_train.drop('price', axis=1)\n",
    "y = diamonds_train['price']"
   ]
  },
  {
   "cell_type": "code",
   "execution_count": 48,
   "id": "aa7db399",
   "metadata": {},
   "outputs": [
    {
     "name": "stdout",
     "output_type": "stream",
     "text": [
      "X_train: (38432, 7), X_test: (2023, 7), y_train: (38432,), y_test: (2023,)\n",
      "X_train: <class 'pandas.core.frame.DataFrame'>, X_test: <class 'pandas.core.frame.DataFrame'>, y_train: <class 'pandas.core.series.Series'>, y_test: <class 'pandas.core.series.Series'>\n"
     ]
    }
   ],
   "source": [
    "from sklearn.model_selection import train_test_split\n",
    "X_train, X_test, y_train, y_test = train_test_split(X, y, test_size=0.05, random_state=42)\n",
    "print(f\"X_train: {X_train.shape}, X_test: {X_test.shape}, y_train: {y_train.shape}, y_test: {y_test.shape}\")\n",
    "print(f\"X_train: {type(X_train)}, X_test: {type(X_test)}, y_train: {type(y_train)}, y_test: {type(y_test)}\")"
   ]
  },
  {
   "cell_type": "code",
   "execution_count": 49,
   "id": "be9379cf",
   "metadata": {},
   "outputs": [
    {
     "data": {
      "text/html": [
       "<div>\n",
       "<style scoped>\n",
       "    .dataframe tbody tr th:only-of-type {\n",
       "        vertical-align: middle;\n",
       "    }\n",
       "\n",
       "    .dataframe tbody tr th {\n",
       "        vertical-align: top;\n",
       "    }\n",
       "\n",
       "    .dataframe thead th {\n",
       "        text-align: right;\n",
       "    }\n",
       "</style>\n",
       "<table border=\"1\" class=\"dataframe\">\n",
       "  <thead>\n",
       "    <tr style=\"text-align: right;\">\n",
       "      <th></th>\n",
       "      <th>city</th>\n",
       "      <th>cut</th>\n",
       "      <th>color</th>\n",
       "      <th>clarity</th>\n",
       "      <th>carat</th>\n",
       "      <th>depth</th>\n",
       "      <th>table</th>\n",
       "    </tr>\n",
       "  </thead>\n",
       "  <tbody>\n",
       "    <tr>\n",
       "      <th>count</th>\n",
       "      <td>38432.00</td>\n",
       "      <td>38432.00</td>\n",
       "      <td>38432.00</td>\n",
       "      <td>38432.00</td>\n",
       "      <td>38432.00</td>\n",
       "      <td>38432.00</td>\n",
       "      <td>38432.00</td>\n",
       "    </tr>\n",
       "    <tr>\n",
       "      <th>mean</th>\n",
       "      <td>-0.04</td>\n",
       "      <td>0.55</td>\n",
       "      <td>-0.13</td>\n",
       "      <td>-0.05</td>\n",
       "      <td>0.15</td>\n",
       "      <td>-0.03</td>\n",
       "      <td>0.15</td>\n",
       "    </tr>\n",
       "    <tr>\n",
       "      <th>std</th>\n",
       "      <td>0.63</td>\n",
       "      <td>1.03</td>\n",
       "      <td>0.57</td>\n",
       "      <td>0.58</td>\n",
       "      <td>0.74</td>\n",
       "      <td>0.96</td>\n",
       "      <td>0.74</td>\n",
       "    </tr>\n",
       "    <tr>\n",
       "      <th>min</th>\n",
       "      <td>-1.00</td>\n",
       "      <td>-2.00</td>\n",
       "      <td>-1.00</td>\n",
       "      <td>-1.33</td>\n",
       "      <td>-0.78</td>\n",
       "      <td>-12.53</td>\n",
       "      <td>-4.67</td>\n",
       "    </tr>\n",
       "    <tr>\n",
       "      <th>25%</th>\n",
       "      <td>-0.50</td>\n",
       "      <td>0.00</td>\n",
       "      <td>-0.67</td>\n",
       "      <td>-0.67</td>\n",
       "      <td>-0.47</td>\n",
       "      <td>-0.53</td>\n",
       "      <td>-0.33</td>\n",
       "    </tr>\n",
       "    <tr>\n",
       "      <th>50%</th>\n",
       "      <td>0.00</td>\n",
       "      <td>0.00</td>\n",
       "      <td>0.00</td>\n",
       "      <td>0.00</td>\n",
       "      <td>0.00</td>\n",
       "      <td>0.00</td>\n",
       "      <td>0.00</td>\n",
       "    </tr>\n",
       "    <tr>\n",
       "      <th>75%</th>\n",
       "      <td>0.50</td>\n",
       "      <td>1.00</td>\n",
       "      <td>0.33</td>\n",
       "      <td>0.33</td>\n",
       "      <td>0.53</td>\n",
       "      <td>0.47</td>\n",
       "      <td>0.67</td>\n",
       "    </tr>\n",
       "    <tr>\n",
       "      <th>max</th>\n",
       "      <td>1.00</td>\n",
       "      <td>2.00</td>\n",
       "      <td>1.00</td>\n",
       "      <td>1.00</td>\n",
       "      <td>5.94</td>\n",
       "      <td>11.47</td>\n",
       "      <td>12.67</td>\n",
       "    </tr>\n",
       "  </tbody>\n",
       "</table>\n",
       "</div>"
      ],
      "text/plain": [
       "           city       cut     color   clarity     carat     depth     table\n",
       "count  38432.00  38432.00  38432.00  38432.00  38432.00  38432.00  38432.00\n",
       "mean      -0.04      0.55     -0.13     -0.05      0.15     -0.03      0.15\n",
       "std        0.63      1.03      0.57      0.58      0.74      0.96      0.74\n",
       "min       -1.00     -2.00     -1.00     -1.33     -0.78    -12.53     -4.67\n",
       "25%       -0.50      0.00     -0.67     -0.67     -0.47     -0.53     -0.33\n",
       "50%        0.00      0.00      0.00      0.00      0.00      0.00      0.00\n",
       "75%        0.50      1.00      0.33      0.33      0.53      0.47      0.67\n",
       "max        1.00      2.00      1.00      1.00      5.94     11.47     12.67"
      ]
     },
     "execution_count": 49,
     "metadata": {},
     "output_type": "execute_result"
    }
   ],
   "source": [
    "round(X_train.describe(), 2)"
   ]
  },
  {
   "cell_type": "code",
   "execution_count": 50,
   "id": "5bbf9afe",
   "metadata": {},
   "outputs": [
    {
     "data": {
      "text/plain": [
       "count    38432.00\n",
       "mean      3920.68\n",
       "std       3983.43\n",
       "min        326.00\n",
       "25%        945.00\n",
       "50%       2394.00\n",
       "75%       5312.00\n",
       "max      18823.00\n",
       "Name: price, dtype: float64"
      ]
     },
     "execution_count": 50,
     "metadata": {},
     "output_type": "execute_result"
    }
   ],
   "source": [
    "round(y_train.describe(),2)"
   ]
  },
  {
   "cell_type": "code",
   "execution_count": 51,
   "id": "1a354642",
   "metadata": {},
   "outputs": [
    {
     "data": {
      "text/html": [
       "<div>\n",
       "<style scoped>\n",
       "    .dataframe tbody tr th:only-of-type {\n",
       "        vertical-align: middle;\n",
       "    }\n",
       "\n",
       "    .dataframe tbody tr th {\n",
       "        vertical-align: top;\n",
       "    }\n",
       "\n",
       "    .dataframe thead th {\n",
       "        text-align: right;\n",
       "    }\n",
       "</style>\n",
       "<table border=\"1\" class=\"dataframe\">\n",
       "  <thead>\n",
       "    <tr style=\"text-align: right;\">\n",
       "      <th></th>\n",
       "      <th>city</th>\n",
       "      <th>cut</th>\n",
       "      <th>color</th>\n",
       "      <th>clarity</th>\n",
       "      <th>carat</th>\n",
       "      <th>depth</th>\n",
       "      <th>table</th>\n",
       "    </tr>\n",
       "  </thead>\n",
       "  <tbody>\n",
       "    <tr>\n",
       "      <th>count</th>\n",
       "      <td>2023.00</td>\n",
       "      <td>2023.00</td>\n",
       "      <td>2023.00</td>\n",
       "      <td>2023.00</td>\n",
       "      <td>2023.00</td>\n",
       "      <td>2023.00</td>\n",
       "      <td>2023.00</td>\n",
       "    </tr>\n",
       "    <tr>\n",
       "      <th>mean</th>\n",
       "      <td>-0.04</td>\n",
       "      <td>0.58</td>\n",
       "      <td>-0.14</td>\n",
       "      <td>-0.06</td>\n",
       "      <td>0.17</td>\n",
       "      <td>-0.03</td>\n",
       "      <td>0.16</td>\n",
       "    </tr>\n",
       "    <tr>\n",
       "      <th>std</th>\n",
       "      <td>0.63</td>\n",
       "      <td>1.05</td>\n",
       "      <td>0.57</td>\n",
       "      <td>0.58</td>\n",
       "      <td>0.76</td>\n",
       "      <td>0.93</td>\n",
       "      <td>0.75</td>\n",
       "    </tr>\n",
       "    <tr>\n",
       "      <th>min</th>\n",
       "      <td>-1.00</td>\n",
       "      <td>-2.00</td>\n",
       "      <td>-1.00</td>\n",
       "      <td>-1.33</td>\n",
       "      <td>-0.77</td>\n",
       "      <td>-4.20</td>\n",
       "      <td>-2.30</td>\n",
       "    </tr>\n",
       "    <tr>\n",
       "      <th>25%</th>\n",
       "      <td>-0.50</td>\n",
       "      <td>0.00</td>\n",
       "      <td>-0.67</td>\n",
       "      <td>-0.67</td>\n",
       "      <td>-0.47</td>\n",
       "      <td>-0.53</td>\n",
       "      <td>-0.33</td>\n",
       "    </tr>\n",
       "    <tr>\n",
       "      <th>50%</th>\n",
       "      <td>0.00</td>\n",
       "      <td>0.00</td>\n",
       "      <td>0.00</td>\n",
       "      <td>0.00</td>\n",
       "      <td>0.02</td>\n",
       "      <td>0.07</td>\n",
       "      <td>0.00</td>\n",
       "    </tr>\n",
       "    <tr>\n",
       "      <th>75%</th>\n",
       "      <td>0.50</td>\n",
       "      <td>1.00</td>\n",
       "      <td>0.33</td>\n",
       "      <td>0.33</td>\n",
       "      <td>0.56</td>\n",
       "      <td>0.47</td>\n",
       "      <td>0.67</td>\n",
       "    </tr>\n",
       "    <tr>\n",
       "      <th>max</th>\n",
       "      <td>1.00</td>\n",
       "      <td>2.00</td>\n",
       "      <td>1.00</td>\n",
       "      <td>1.00</td>\n",
       "      <td>4.22</td>\n",
       "      <td>4.47</td>\n",
       "      <td>4.33</td>\n",
       "    </tr>\n",
       "  </tbody>\n",
       "</table>\n",
       "</div>"
      ],
      "text/plain": [
       "          city      cut    color  clarity    carat    depth    table\n",
       "count  2023.00  2023.00  2023.00  2023.00  2023.00  2023.00  2023.00\n",
       "mean     -0.04     0.58    -0.14    -0.06     0.17    -0.03     0.16\n",
       "std       0.63     1.05     0.57     0.58     0.76     0.93     0.75\n",
       "min      -1.00    -2.00    -1.00    -1.33    -0.77    -4.20    -2.30\n",
       "25%      -0.50     0.00    -0.67    -0.67    -0.47    -0.53    -0.33\n",
       "50%       0.00     0.00     0.00     0.00     0.02     0.07     0.00\n",
       "75%       0.50     1.00     0.33     0.33     0.56     0.47     0.67\n",
       "max       1.00     2.00     1.00     1.00     4.22     4.47     4.33"
      ]
     },
     "execution_count": 51,
     "metadata": {},
     "output_type": "execute_result"
    }
   ],
   "source": [
    "round(X_test.describe(),2)"
   ]
  },
  {
   "cell_type": "code",
   "execution_count": 52,
   "id": "49b0aefb",
   "metadata": {},
   "outputs": [
    {
     "data": {
      "text/plain": [
       "count     2023.00\n",
       "mean      4075.99\n",
       "std       4157.72\n",
       "min        326.00\n",
       "25%        950.00\n",
       "50%       2442.00\n",
       "75%       5590.50\n",
       "max      18791.00\n",
       "Name: price, dtype: float64"
      ]
     },
     "execution_count": 52,
     "metadata": {},
     "output_type": "execute_result"
    }
   ],
   "source": [
    "round(y_test.describe(),2)"
   ]
  },
  {
   "cell_type": "markdown",
   "id": "2dd72840",
   "metadata": {},
   "source": [
    "## Models"
   ]
  },
  {
   "cell_type": "code",
   "execution_count": 53,
   "id": "38c1e2bf",
   "metadata": {},
   "outputs": [],
   "source": [
    "from xgboost import XGBRegressor\n",
    "xgb_model = XGBRegressor(random_state=42)"
   ]
  },
  {
   "cell_type": "code",
   "execution_count": 54,
   "id": "e92dfd8e",
   "metadata": {},
   "outputs": [],
   "source": [
    "# Make a dict of hyperparameters values to search\n",
    "\n",
    "search_space = {\n",
    "    'n_estimators': [100,200,500],\n",
    "    'max_depth': [3,6,9],\n",
    "    'gamma': [0.01,0.1],\n",
    "    'learning_rate': [0.001,0.01,0.1,1]\n",
    "}"
   ]
  },
  {
   "cell_type": "code",
   "execution_count": 55,
   "id": "451f6c8b",
   "metadata": {},
   "outputs": [],
   "source": [
    "# MAke a GridSearchCV object\n",
    "\n",
    "GS = GridSearchCV(estimator = xgb_model,\n",
    "                 param_grid = search_space,\n",
    "                 scoring = ['r2','neg_root_mean_squared_error'], # sklearn.metrics.SCORERS.keys()\n",
    "                 refit = 'r2',\n",
    "                 cv = 5,\n",
    "                 verbose = 4)"
   ]
  },
  {
   "cell_type": "code",
   "execution_count": 56,
   "id": "a31f4cfb",
   "metadata": {},
   "outputs": [
    {
     "name": "stdout",
     "output_type": "stream",
     "text": [
      "Fitting 5 folds for each of 72 candidates, totalling 360 fits\n",
      "[CV 1/5] END gamma=0.01, learning_rate=0.001, max_depth=3, n_estimators=100; neg_root_mean_squared_error: (test=-5010.961) r2: (test=-0.621) total time=   0.1s\n",
      "[CV 2/5] END gamma=0.01, learning_rate=0.001, max_depth=3, n_estimators=100; neg_root_mean_squared_error: (test=-5099.459) r2: (test=-0.652) total time=   0.1s\n",
      "[CV 3/5] END gamma=0.01, learning_rate=0.001, max_depth=3, n_estimators=100; neg_root_mean_squared_error: (test=-5205.369) r2: (test=-0.647) total time=   0.1s\n",
      "[CV 4/5] END gamma=0.01, learning_rate=0.001, max_depth=3, n_estimators=100; neg_root_mean_squared_error: (test=-5033.934) r2: (test=-0.628) total time=   0.1s\n",
      "[CV 5/5] END gamma=0.01, learning_rate=0.001, max_depth=3, n_estimators=100; neg_root_mean_squared_error: (test=-5104.119) r2: (test=-0.622) total time=   0.1s\n",
      "[CV 1/5] END gamma=0.01, learning_rate=0.001, max_depth=3, n_estimators=200; neg_root_mean_squared_error: (test=-4569.116) r2: (test=-0.348) total time=   0.3s\n",
      "[CV 2/5] END gamma=0.01, learning_rate=0.001, max_depth=3, n_estimators=200; neg_root_mean_squared_error: (test=-4651.096) r2: (test=-0.374) total time=   0.3s\n",
      "[CV 3/5] END gamma=0.01, learning_rate=0.001, max_depth=3, n_estimators=200; neg_root_mean_squared_error: (test=-4751.950) r2: (test=-0.373) total time=   0.2s\n",
      "[CV 4/5] END gamma=0.01, learning_rate=0.001, max_depth=3, n_estimators=200; neg_root_mean_squared_error: (test=-4587.308) r2: (test=-0.352) total time=   0.2s\n",
      "[CV 5/5] END gamma=0.01, learning_rate=0.001, max_depth=3, n_estimators=200; neg_root_mean_squared_error: (test=-4657.990) r2: (test=-0.351) total time=   0.2s\n",
      "[CV 1/5] END gamma=0.01, learning_rate=0.001, max_depth=3, n_estimators=500; neg_root_mean_squared_error: (test=-3490.590) r2: (test=0.214) total time=   0.7s\n",
      "[CV 2/5] END gamma=0.01, learning_rate=0.001, max_depth=3, n_estimators=500; neg_root_mean_squared_error: (test=-3560.838) r2: (test=0.195) total time=   0.7s\n",
      "[CV 3/5] END gamma=0.01, learning_rate=0.001, max_depth=3, n_estimators=500; neg_root_mean_squared_error: (test=-3644.004) r2: (test=0.193) total time=   0.7s\n",
      "[CV 4/5] END gamma=0.01, learning_rate=0.001, max_depth=3, n_estimators=500; neg_root_mean_squared_error: (test=-3499.349) r2: (test=0.213) total time=   0.7s\n",
      "[CV 5/5] END gamma=0.01, learning_rate=0.001, max_depth=3, n_estimators=500; neg_root_mean_squared_error: (test=-3571.097) r2: (test=0.206) total time=   0.8s\n",
      "[CV 1/5] END gamma=0.01, learning_rate=0.001, max_depth=6, n_estimators=100; neg_root_mean_squared_error: (test=-4993.548) r2: (test=-0.610) total time=   0.3s\n",
      "[CV 2/5] END gamma=0.01, learning_rate=0.001, max_depth=6, n_estimators=100; neg_root_mean_squared_error: (test=-5079.450) r2: (test=-0.639) total time=   0.3s\n",
      "[CV 3/5] END gamma=0.01, learning_rate=0.001, max_depth=6, n_estimators=100; neg_root_mean_squared_error: (test=-5185.072) r2: (test=-0.634) total time=   0.3s\n",
      "[CV 4/5] END gamma=0.01, learning_rate=0.001, max_depth=6, n_estimators=100; neg_root_mean_squared_error: (test=-5019.317) r2: (test=-0.619) total time=   0.3s\n",
      "[CV 5/5] END gamma=0.01, learning_rate=0.001, max_depth=6, n_estimators=100; neg_root_mean_squared_error: (test=-5084.022) r2: (test=-0.609) total time=   0.3s\n",
      "[CV 1/5] END gamma=0.01, learning_rate=0.001, max_depth=6, n_estimators=200; neg_root_mean_squared_error: (test=-4534.243) r2: (test=-0.327) total time=   0.6s\n",
      "[CV 2/5] END gamma=0.01, learning_rate=0.001, max_depth=6, n_estimators=200; neg_root_mean_squared_error: (test=-4610.220) r2: (test=-0.350) total time=   0.6s\n",
      "[CV 3/5] END gamma=0.01, learning_rate=0.001, max_depth=6, n_estimators=200; neg_root_mean_squared_error: (test=-4710.278) r2: (test=-0.349) total time=   0.6s\n",
      "[CV 4/5] END gamma=0.01, learning_rate=0.001, max_depth=6, n_estimators=200; neg_root_mean_squared_error: (test=-4557.834) r2: (test=-0.335) total time=   0.6s\n",
      "[CV 5/5] END gamma=0.01, learning_rate=0.001, max_depth=6, n_estimators=200; neg_root_mean_squared_error: (test=-4617.609) r2: (test=-0.327) total time=   0.6s\n",
      "[CV 1/5] END gamma=0.01, learning_rate=0.001, max_depth=6, n_estimators=500; neg_root_mean_squared_error: (test=-3407.198) r2: (test=0.251) total time=   1.5s\n",
      "[CV 2/5] END gamma=0.01, learning_rate=0.001, max_depth=6, n_estimators=500; neg_root_mean_squared_error: (test=-3461.107) r2: (test=0.239) total time=   1.6s\n",
      "[CV 3/5] END gamma=0.01, learning_rate=0.001, max_depth=6, n_estimators=500; neg_root_mean_squared_error: (test=-3545.724) r2: (test=0.236) total time=   1.6s\n",
      "[CV 4/5] END gamma=0.01, learning_rate=0.001, max_depth=6, n_estimators=500; neg_root_mean_squared_error: (test=-3424.376) r2: (test=0.247) total time=   1.6s\n",
      "[CV 5/5] END gamma=0.01, learning_rate=0.001, max_depth=6, n_estimators=500; neg_root_mean_squared_error: (test=-3471.776) r2: (test=0.250) total time=   1.7s\n",
      "[CV 1/5] END gamma=0.01, learning_rate=0.001, max_depth=9, n_estimators=100; neg_root_mean_squared_error: (test=-4989.897) r2: (test=-0.607) total time=   0.5s\n",
      "[CV 2/5] END gamma=0.01, learning_rate=0.001, max_depth=9, n_estimators=100; neg_root_mean_squared_error: (test=-5076.949) r2: (test=-0.637) total time=   0.5s\n",
      "[CV 3/5] END gamma=0.01, learning_rate=0.001, max_depth=9, n_estimators=100; neg_root_mean_squared_error: (test=-5180.806) r2: (test=-0.632) total time=   0.5s\n",
      "[CV 4/5] END gamma=0.01, learning_rate=0.001, max_depth=9, n_estimators=100; neg_root_mean_squared_error: (test=-5016.167) r2: (test=-0.617) total time=   0.5s\n",
      "[CV 5/5] END gamma=0.01, learning_rate=0.001, max_depth=9, n_estimators=100; neg_root_mean_squared_error: (test=-5080.928) r2: (test=-0.607) total time=   0.5s\n",
      "[CV 1/5] END gamma=0.01, learning_rate=0.001, max_depth=9, n_estimators=200; neg_root_mean_squared_error: (test=-4526.922) r2: (test=-0.323) total time=   1.0s\n",
      "[CV 2/5] END gamma=0.01, learning_rate=0.001, max_depth=9, n_estimators=200; neg_root_mean_squared_error: (test=-4605.306) r2: (test=-0.347) total time=   1.0s\n",
      "[CV 3/5] END gamma=0.01, learning_rate=0.001, max_depth=9, n_estimators=200; neg_root_mean_squared_error: (test=-4702.658) r2: (test=-0.344) total time=   1.0s\n",
      "[CV 4/5] END gamma=0.01, learning_rate=0.001, max_depth=9, n_estimators=200; neg_root_mean_squared_error: (test=-4551.125) r2: (test=-0.331) total time=   1.1s\n",
      "[CV 5/5] END gamma=0.01, learning_rate=0.001, max_depth=9, n_estimators=200; neg_root_mean_squared_error: (test=-4612.352) r2: (test=-0.324) total time=   1.1s\n",
      "[CV 1/5] END gamma=0.01, learning_rate=0.001, max_depth=9, n_estimators=500; neg_root_mean_squared_error: (test=-3389.792) r2: (test=0.258) total time=   2.9s\n",
      "[CV 2/5] END gamma=0.01, learning_rate=0.001, max_depth=9, n_estimators=500; neg_root_mean_squared_error: (test=-3445.058) r2: (test=0.246) total time=   2.8s\n",
      "[CV 3/5] END gamma=0.01, learning_rate=0.001, max_depth=9, n_estimators=500; neg_root_mean_squared_error: (test=-3527.260) r2: (test=0.244) total time=   2.8s\n",
      "[CV 4/5] END gamma=0.01, learning_rate=0.001, max_depth=9, n_estimators=500; neg_root_mean_squared_error: (test=-3409.578) r2: (test=0.253) total time=   2.9s\n",
      "[CV 5/5] END gamma=0.01, learning_rate=0.001, max_depth=9, n_estimators=500; neg_root_mean_squared_error: (test=-3460.528) r2: (test=0.255) total time=   2.8s\n",
      "[CV 1/5] END gamma=0.01, learning_rate=0.01, max_depth=3, n_estimators=100; neg_root_mean_squared_error: (test=-2314.169) r2: (test=0.654) total time=   0.1s\n",
      "[CV 2/5] END gamma=0.01, learning_rate=0.01, max_depth=3, n_estimators=100; neg_root_mean_squared_error: (test=-2370.876) r2: (test=0.643) total time=   0.1s\n",
      "[CV 3/5] END gamma=0.01, learning_rate=0.01, max_depth=3, n_estimators=100; neg_root_mean_squared_error: (test=-2435.289) r2: (test=0.639) total time=   0.1s\n",
      "[CV 4/5] END gamma=0.01, learning_rate=0.01, max_depth=3, n_estimators=100; neg_root_mean_squared_error: (test=-2310.362) r2: (test=0.657) total time=   0.1s\n",
      "[CV 5/5] END gamma=0.01, learning_rate=0.01, max_depth=3, n_estimators=100; neg_root_mean_squared_error: (test=-2380.939) r2: (test=0.647) total time=   0.1s\n",
      "[CV 1/5] END gamma=0.01, learning_rate=0.01, max_depth=3, n_estimators=200; neg_root_mean_squared_error: (test=-1290.050) r2: (test=0.893) total time=   0.2s\n"
     ]
    },
    {
     "name": "stdout",
     "output_type": "stream",
     "text": [
      "[CV 2/5] END gamma=0.01, learning_rate=0.01, max_depth=3, n_estimators=200; neg_root_mean_squared_error: (test=-1339.385) r2: (test=0.886) total time=   0.2s\n",
      "[CV 3/5] END gamma=0.01, learning_rate=0.01, max_depth=3, n_estimators=200; neg_root_mean_squared_error: (test=-1374.873) r2: (test=0.885) total time=   0.2s\n",
      "[CV 4/5] END gamma=0.01, learning_rate=0.01, max_depth=3, n_estimators=200; neg_root_mean_squared_error: (test=-1287.652) r2: (test=0.893) total time=   0.2s\n",
      "[CV 5/5] END gamma=0.01, learning_rate=0.01, max_depth=3, n_estimators=200; neg_root_mean_squared_error: (test=-1333.505) r2: (test=0.889) total time=   0.2s\n",
      "[CV 1/5] END gamma=0.01, learning_rate=0.01, max_depth=3, n_estimators=500; neg_root_mean_squared_error: (test=-815.272) r2: (test=0.957) total time=   0.7s\n",
      "[CV 2/5] END gamma=0.01, learning_rate=0.01, max_depth=3, n_estimators=500; neg_root_mean_squared_error: (test=-858.615) r2: (test=0.953) total time=   0.7s\n",
      "[CV 3/5] END gamma=0.01, learning_rate=0.01, max_depth=3, n_estimators=500; neg_root_mean_squared_error: (test=-863.348) r2: (test=0.955) total time=   0.8s\n",
      "[CV 4/5] END gamma=0.01, learning_rate=0.01, max_depth=3, n_estimators=500; neg_root_mean_squared_error: (test=-824.824) r2: (test=0.956) total time=   0.7s\n",
      "[CV 5/5] END gamma=0.01, learning_rate=0.01, max_depth=3, n_estimators=500; neg_root_mean_squared_error: (test=-812.806) r2: (test=0.959) total time=   0.7s\n",
      "[CV 1/5] END gamma=0.01, learning_rate=0.01, max_depth=6, n_estimators=100; neg_root_mean_squared_error: (test=-2148.707) r2: (test=0.702) total time=   0.2s\n",
      "[CV 2/5] END gamma=0.01, learning_rate=0.01, max_depth=6, n_estimators=100; neg_root_mean_squared_error: (test=-2182.695) r2: (test=0.697) total time=   0.2s\n",
      "[CV 3/5] END gamma=0.01, learning_rate=0.01, max_depth=6, n_estimators=100; neg_root_mean_squared_error: (test=-2243.340) r2: (test=0.694) total time=   0.2s\n",
      "[CV 4/5] END gamma=0.01, learning_rate=0.01, max_depth=6, n_estimators=100; neg_root_mean_squared_error: (test=-2160.870) r2: (test=0.700) total time=   0.2s\n",
      "[CV 5/5] END gamma=0.01, learning_rate=0.01, max_depth=6, n_estimators=100; neg_root_mean_squared_error: (test=-2197.167) r2: (test=0.700) total time=   0.2s\n",
      "[CV 1/5] END gamma=0.01, learning_rate=0.01, max_depth=6, n_estimators=200; neg_root_mean_squared_error: (test=-1014.018) r2: (test=0.934) total time=   0.6s\n",
      "[CV 2/5] END gamma=0.01, learning_rate=0.01, max_depth=6, n_estimators=200; neg_root_mean_squared_error: (test=-1031.010) r2: (test=0.932) total time=   0.6s\n",
      "[CV 3/5] END gamma=0.01, learning_rate=0.01, max_depth=6, n_estimators=200; neg_root_mean_squared_error: (test=-1061.493) r2: (test=0.932) total time=   0.6s\n",
      "[CV 4/5] END gamma=0.01, learning_rate=0.01, max_depth=6, n_estimators=200; neg_root_mean_squared_error: (test=-1016.178) r2: (test=0.934) total time=   0.6s\n",
      "[CV 5/5] END gamma=0.01, learning_rate=0.01, max_depth=6, n_estimators=200; neg_root_mean_squared_error: (test=-1036.472) r2: (test=0.933) total time=   0.6s\n",
      "[CV 1/5] END gamma=0.01, learning_rate=0.01, max_depth=6, n_estimators=500; neg_root_mean_squared_error: (test=-564.029) r2: (test=0.979) total time=   1.7s\n",
      "[CV 2/5] END gamma=0.01, learning_rate=0.01, max_depth=6, n_estimators=500; neg_root_mean_squared_error: (test=-585.083) r2: (test=0.978) total time=   1.7s\n",
      "[CV 3/5] END gamma=0.01, learning_rate=0.01, max_depth=6, n_estimators=500; neg_root_mean_squared_error: (test=-572.415) r2: (test=0.980) total time=   1.7s\n",
      "[CV 4/5] END gamma=0.01, learning_rate=0.01, max_depth=6, n_estimators=500; neg_root_mean_squared_error: (test=-552.714) r2: (test=0.980) total time=   1.7s\n",
      "[CV 5/5] END gamma=0.01, learning_rate=0.01, max_depth=6, n_estimators=500; neg_root_mean_squared_error: (test=-555.071) r2: (test=0.981) total time=   1.6s\n",
      "[CV 1/5] END gamma=0.01, learning_rate=0.01, max_depth=9, n_estimators=100; neg_root_mean_squared_error: (test=-2118.084) r2: (test=0.710) total time=   0.5s\n",
      "[CV 2/5] END gamma=0.01, learning_rate=0.01, max_depth=9, n_estimators=100; neg_root_mean_squared_error: (test=-2142.230) r2: (test=0.709) total time=   0.5s\n",
      "[CV 3/5] END gamma=0.01, learning_rate=0.01, max_depth=9, n_estimators=100; neg_root_mean_squared_error: (test=-2203.320) r2: (test=0.705) total time=   0.5s\n",
      "[CV 4/5] END gamma=0.01, learning_rate=0.01, max_depth=9, n_estimators=100; neg_root_mean_squared_error: (test=-2129.050) r2: (test=0.709) total time=   0.5s\n",
      "[CV 5/5] END gamma=0.01, learning_rate=0.01, max_depth=9, n_estimators=100; neg_root_mean_squared_error: (test=-2168.984) r2: (test=0.707) total time=   0.5s\n",
      "[CV 1/5] END gamma=0.01, learning_rate=0.01, max_depth=9, n_estimators=200; neg_root_mean_squared_error: (test=-949.466) r2: (test=0.942) total time=   1.2s\n",
      "[CV 2/5] END gamma=0.01, learning_rate=0.01, max_depth=9, n_estimators=200; neg_root_mean_squared_error: (test=-955.029) r2: (test=0.942) total time=   1.2s\n",
      "[CV 3/5] END gamma=0.01, learning_rate=0.01, max_depth=9, n_estimators=200; neg_root_mean_squared_error: (test=-983.015) r2: (test=0.941) total time=   1.2s\n",
      "[CV 4/5] END gamma=0.01, learning_rate=0.01, max_depth=9, n_estimators=200; neg_root_mean_squared_error: (test=-956.848) r2: (test=0.941) total time=   1.2s\n",
      "[CV 5/5] END gamma=0.01, learning_rate=0.01, max_depth=9, n_estimators=200; neg_root_mean_squared_error: (test=-980.260) r2: (test=0.940) total time=   1.1s\n",
      "[CV 1/5] END gamma=0.01, learning_rate=0.01, max_depth=9, n_estimators=500; neg_root_mean_squared_error: (test=-543.095) r2: (test=0.981) total time=   3.1s\n",
      "[CV 2/5] END gamma=0.01, learning_rate=0.01, max_depth=9, n_estimators=500; neg_root_mean_squared_error: (test=-555.330) r2: (test=0.980) total time=   3.2s\n",
      "[CV 3/5] END gamma=0.01, learning_rate=0.01, max_depth=9, n_estimators=500; neg_root_mean_squared_error: (test=-548.958) r2: (test=0.982) total time=   3.2s\n",
      "[CV 4/5] END gamma=0.01, learning_rate=0.01, max_depth=9, n_estimators=500; neg_root_mean_squared_error: (test=-541.915) r2: (test=0.981) total time=   3.1s\n",
      "[CV 5/5] END gamma=0.01, learning_rate=0.01, max_depth=9, n_estimators=500; neg_root_mean_squared_error: (test=-531.369) r2: (test=0.982) total time=   3.3s\n",
      "[CV 1/5] END gamma=0.01, learning_rate=0.1, max_depth=3, n_estimators=100; neg_root_mean_squared_error: (test=-668.740) r2: (test=0.971) total time=   0.1s\n",
      "[CV 2/5] END gamma=0.01, learning_rate=0.1, max_depth=3, n_estimators=100; neg_root_mean_squared_error: (test=-693.205) r2: (test=0.969) total time=   0.1s\n",
      "[CV 3/5] END gamma=0.01, learning_rate=0.1, max_depth=3, n_estimators=100; neg_root_mean_squared_error: (test=-684.451) r2: (test=0.972) total time=   0.1s\n",
      "[CV 4/5] END gamma=0.01, learning_rate=0.1, max_depth=3, n_estimators=100; neg_root_mean_squared_error: (test=-663.634) r2: (test=0.972) total time=   0.1s\n",
      "[CV 5/5] END gamma=0.01, learning_rate=0.1, max_depth=3, n_estimators=100; neg_root_mean_squared_error: (test=-659.310) r2: (test=0.973) total time=   0.1s\n",
      "[CV 1/5] END gamma=0.01, learning_rate=0.1, max_depth=3, n_estimators=200; neg_root_mean_squared_error: (test=-604.682) r2: (test=0.976) total time=   0.3s\n",
      "[CV 2/5] END gamma=0.01, learning_rate=0.1, max_depth=3, n_estimators=200; neg_root_mean_squared_error: (test=-632.581) r2: (test=0.975) total time=   0.2s\n",
      "[CV 3/5] END gamma=0.01, learning_rate=0.1, max_depth=3, n_estimators=200; neg_root_mean_squared_error: (test=-619.574) r2: (test=0.977) total time=   0.2s\n",
      "[CV 4/5] END gamma=0.01, learning_rate=0.1, max_depth=3, n_estimators=200; neg_root_mean_squared_error: (test=-604.494) r2: (test=0.977) total time=   0.2s\n",
      "[CV 5/5] END gamma=0.01, learning_rate=0.1, max_depth=3, n_estimators=200; neg_root_mean_squared_error: (test=-594.150) r2: (test=0.978) total time=   0.2s\n",
      "[CV 1/5] END gamma=0.01, learning_rate=0.1, max_depth=3, n_estimators=500; neg_root_mean_squared_error: (test=-570.931) r2: (test=0.979) total time=   0.7s\n",
      "[CV 2/5] END gamma=0.01, learning_rate=0.1, max_depth=3, n_estimators=500; neg_root_mean_squared_error: (test=-589.237) r2: (test=0.978) total time=   0.7s\n",
      "[CV 3/5] END gamma=0.01, learning_rate=0.1, max_depth=3, n_estimators=500; neg_root_mean_squared_error: (test=-582.313) r2: (test=0.979) total time=   0.7s\n",
      "[CV 4/5] END gamma=0.01, learning_rate=0.1, max_depth=3, n_estimators=500; neg_root_mean_squared_error: (test=-572.018) r2: (test=0.979) total time=   0.7s\n"
     ]
    },
    {
     "name": "stdout",
     "output_type": "stream",
     "text": [
      "[CV 5/5] END gamma=0.01, learning_rate=0.1, max_depth=3, n_estimators=500; neg_root_mean_squared_error: (test=-559.844) r2: (test=0.980) total time=   0.7s\n",
      "[CV 1/5] END gamma=0.01, learning_rate=0.1, max_depth=6, n_estimators=100; neg_root_mean_squared_error: (test=-538.880) r2: (test=0.981) total time=   0.2s\n",
      "[CV 2/5] END gamma=0.01, learning_rate=0.1, max_depth=6, n_estimators=100; neg_root_mean_squared_error: (test=-559.019) r2: (test=0.980) total time=   0.3s\n",
      "[CV 3/5] END gamma=0.01, learning_rate=0.1, max_depth=6, n_estimators=100; neg_root_mean_squared_error: (test=-550.588) r2: (test=0.982) total time=   0.3s\n",
      "[CV 4/5] END gamma=0.01, learning_rate=0.1, max_depth=6, n_estimators=100; neg_root_mean_squared_error: (test=-535.862) r2: (test=0.982) total time=   0.4s\n",
      "[CV 5/5] END gamma=0.01, learning_rate=0.1, max_depth=6, n_estimators=100; neg_root_mean_squared_error: (test=-525.709) r2: (test=0.983) total time=   0.3s\n",
      "[CV 1/5] END gamma=0.01, learning_rate=0.1, max_depth=6, n_estimators=200; neg_root_mean_squared_error: (test=-536.721) r2: (test=0.981) total time=   0.7s\n",
      "[CV 2/5] END gamma=0.01, learning_rate=0.1, max_depth=6, n_estimators=200; neg_root_mean_squared_error: (test=-552.833) r2: (test=0.981) total time=   0.7s\n",
      "[CV 3/5] END gamma=0.01, learning_rate=0.1, max_depth=6, n_estimators=200; neg_root_mean_squared_error: (test=-547.870) r2: (test=0.982) total time=   0.6s\n",
      "[CV 4/5] END gamma=0.01, learning_rate=0.1, max_depth=6, n_estimators=200; neg_root_mean_squared_error: (test=-532.977) r2: (test=0.982) total time=   0.6s\n",
      "[CV 5/5] END gamma=0.01, learning_rate=0.1, max_depth=6, n_estimators=200; neg_root_mean_squared_error: (test=-521.032) r2: (test=0.983) total time=   0.6s\n",
      "[CV 1/5] END gamma=0.01, learning_rate=0.1, max_depth=6, n_estimators=500; neg_root_mean_squared_error: (test=-540.839) r2: (test=0.981) total time=   1.5s\n",
      "[CV 2/5] END gamma=0.01, learning_rate=0.1, max_depth=6, n_estimators=500; neg_root_mean_squared_error: (test=-561.433) r2: (test=0.980) total time=   1.5s\n",
      "[CV 3/5] END gamma=0.01, learning_rate=0.1, max_depth=6, n_estimators=500; neg_root_mean_squared_error: (test=-555.237) r2: (test=0.981) total time=   1.5s\n",
      "[CV 4/5] END gamma=0.01, learning_rate=0.1, max_depth=6, n_estimators=500; neg_root_mean_squared_error: (test=-538.424) r2: (test=0.981) total time=   1.4s\n",
      "[CV 5/5] END gamma=0.01, learning_rate=0.1, max_depth=6, n_estimators=500; neg_root_mean_squared_error: (test=-528.012) r2: (test=0.983) total time=   1.5s\n",
      "[CV 1/5] END gamma=0.01, learning_rate=0.1, max_depth=9, n_estimators=100; neg_root_mean_squared_error: (test=-542.521) r2: (test=0.981) total time=   0.5s\n",
      "[CV 2/5] END gamma=0.01, learning_rate=0.1, max_depth=9, n_estimators=100; neg_root_mean_squared_error: (test=-556.965) r2: (test=0.980) total time=   0.5s\n",
      "[CV 3/5] END gamma=0.01, learning_rate=0.1, max_depth=9, n_estimators=100; neg_root_mean_squared_error: (test=-547.659) r2: (test=0.982) total time=   0.5s\n",
      "[CV 4/5] END gamma=0.01, learning_rate=0.1, max_depth=9, n_estimators=100; neg_root_mean_squared_error: (test=-541.447) r2: (test=0.981) total time=   0.5s\n",
      "[CV 5/5] END gamma=0.01, learning_rate=0.1, max_depth=9, n_estimators=100; neg_root_mean_squared_error: (test=-533.116) r2: (test=0.982) total time=   0.5s\n",
      "[CV 1/5] END gamma=0.01, learning_rate=0.1, max_depth=9, n_estimators=200; neg_root_mean_squared_error: (test=-547.913) r2: (test=0.981) total time=   1.0s\n",
      "[CV 2/5] END gamma=0.01, learning_rate=0.1, max_depth=9, n_estimators=200; neg_root_mean_squared_error: (test=-565.143) r2: (test=0.980) total time=   1.0s\n",
      "[CV 3/5] END gamma=0.01, learning_rate=0.1, max_depth=9, n_estimators=200; neg_root_mean_squared_error: (test=-554.787) r2: (test=0.981) total time=   1.0s\n",
      "[CV 4/5] END gamma=0.01, learning_rate=0.1, max_depth=9, n_estimators=200; neg_root_mean_squared_error: (test=-548.551) r2: (test=0.981) total time=   1.0s\n",
      "[CV 5/5] END gamma=0.01, learning_rate=0.1, max_depth=9, n_estimators=200; neg_root_mean_squared_error: (test=-540.920) r2: (test=0.982) total time=   1.0s\n",
      "[CV 1/5] END gamma=0.01, learning_rate=0.1, max_depth=9, n_estimators=500; neg_root_mean_squared_error: (test=-558.477) r2: (test=0.980) total time=   2.6s\n",
      "[CV 2/5] END gamma=0.01, learning_rate=0.1, max_depth=9, n_estimators=500; neg_root_mean_squared_error: (test=-578.649) r2: (test=0.979) total time=   2.6s\n",
      "[CV 3/5] END gamma=0.01, learning_rate=0.1, max_depth=9, n_estimators=500; neg_root_mean_squared_error: (test=-569.148) r2: (test=0.980) total time=   2.6s\n",
      "[CV 4/5] END gamma=0.01, learning_rate=0.1, max_depth=9, n_estimators=500; neg_root_mean_squared_error: (test=-563.521) r2: (test=0.980) total time=   2.6s\n",
      "[CV 5/5] END gamma=0.01, learning_rate=0.1, max_depth=9, n_estimators=500; neg_root_mean_squared_error: (test=-549.920) r2: (test=0.981) total time=   2.8s\n",
      "[CV 1/5] END gamma=0.01, learning_rate=1, max_depth=3, n_estimators=100; neg_root_mean_squared_error: (test=-584.927) r2: (test=0.978) total time=   0.1s\n",
      "[CV 2/5] END gamma=0.01, learning_rate=1, max_depth=3, n_estimators=100; neg_root_mean_squared_error: (test=-624.969) r2: (test=0.975) total time=   0.1s\n",
      "[CV 3/5] END gamma=0.01, learning_rate=1, max_depth=3, n_estimators=100; neg_root_mean_squared_error: (test=-607.117) r2: (test=0.978) total time=   0.1s\n",
      "[CV 4/5] END gamma=0.01, learning_rate=1, max_depth=3, n_estimators=100; neg_root_mean_squared_error: (test=-590.608) r2: (test=0.978) total time=   0.1s\n",
      "[CV 5/5] END gamma=0.01, learning_rate=1, max_depth=3, n_estimators=100; neg_root_mean_squared_error: (test=-579.325) r2: (test=0.979) total time=   0.1s\n",
      "[CV 1/5] END gamma=0.01, learning_rate=1, max_depth=3, n_estimators=200; neg_root_mean_squared_error: (test=-576.304) r2: (test=0.979) total time=   0.2s\n",
      "[CV 2/5] END gamma=0.01, learning_rate=1, max_depth=3, n_estimators=200; neg_root_mean_squared_error: (test=-612.315) r2: (test=0.976) total time=   0.2s\n",
      "[CV 3/5] END gamma=0.01, learning_rate=1, max_depth=3, n_estimators=200; neg_root_mean_squared_error: (test=-616.030) r2: (test=0.977) total time=   0.2s\n",
      "[CV 4/5] END gamma=0.01, learning_rate=1, max_depth=3, n_estimators=200; neg_root_mean_squared_error: (test=-586.535) r2: (test=0.978) total time=   0.2s\n",
      "[CV 5/5] END gamma=0.01, learning_rate=1, max_depth=3, n_estimators=200; neg_root_mean_squared_error: (test=-570.120) r2: (test=0.980) total time=   0.2s\n",
      "[CV 1/5] END gamma=0.01, learning_rate=1, max_depth=3, n_estimators=500; neg_root_mean_squared_error: (test=-587.260) r2: (test=0.978) total time=   0.6s\n",
      "[CV 2/5] END gamma=0.01, learning_rate=1, max_depth=3, n_estimators=500; neg_root_mean_squared_error: (test=-616.524) r2: (test=0.976) total time=   0.6s\n",
      "[CV 3/5] END gamma=0.01, learning_rate=1, max_depth=3, n_estimators=500; neg_root_mean_squared_error: (test=-625.925) r2: (test=0.976) total time=   0.6s\n",
      "[CV 4/5] END gamma=0.01, learning_rate=1, max_depth=3, n_estimators=500; neg_root_mean_squared_error: (test=-588.255) r2: (test=0.978) total time=   0.6s\n",
      "[CV 5/5] END gamma=0.01, learning_rate=1, max_depth=3, n_estimators=500; neg_root_mean_squared_error: (test=-576.555) r2: (test=0.979) total time=   0.7s\n",
      "[CV 1/5] END gamma=0.01, learning_rate=1, max_depth=6, n_estimators=100; neg_root_mean_squared_error: (test=-674.815) r2: (test=0.971) total time=   0.2s\n",
      "[CV 2/5] END gamma=0.01, learning_rate=1, max_depth=6, n_estimators=100; neg_root_mean_squared_error: (test=-673.943) r2: (test=0.971) total time=   0.2s\n",
      "[CV 3/5] END gamma=0.01, learning_rate=1, max_depth=6, n_estimators=100; neg_root_mean_squared_error: (test=-669.675) r2: (test=0.973) total time=   0.2s\n",
      "[CV 4/5] END gamma=0.01, learning_rate=1, max_depth=6, n_estimators=100; neg_root_mean_squared_error: (test=-641.599) r2: (test=0.974) total time=   0.3s\n",
      "[CV 5/5] END gamma=0.01, learning_rate=1, max_depth=6, n_estimators=100; neg_root_mean_squared_error: (test=-640.555) r2: (test=0.974) total time=   0.2s\n",
      "[CV 1/5] END gamma=0.01, learning_rate=1, max_depth=6, n_estimators=200; neg_root_mean_squared_error: (test=-687.676) r2: (test=0.969) total time=   0.5s\n",
      "[CV 2/5] END gamma=0.01, learning_rate=1, max_depth=6, n_estimators=200; neg_root_mean_squared_error: (test=-685.400) r2: (test=0.970) total time=   0.5s\n"
     ]
    },
    {
     "name": "stdout",
     "output_type": "stream",
     "text": [
      "[CV 3/5] END gamma=0.01, learning_rate=1, max_depth=6, n_estimators=200; neg_root_mean_squared_error: (test=-686.476) r2: (test=0.971) total time=   0.5s\n",
      "[CV 4/5] END gamma=0.01, learning_rate=1, max_depth=6, n_estimators=200; neg_root_mean_squared_error: (test=-668.910) r2: (test=0.971) total time=   0.5s\n",
      "[CV 5/5] END gamma=0.01, learning_rate=1, max_depth=6, n_estimators=200; neg_root_mean_squared_error: (test=-662.862) r2: (test=0.973) total time=   0.5s\n",
      "[CV 1/5] END gamma=0.01, learning_rate=1, max_depth=6, n_estimators=500; neg_root_mean_squared_error: (test=-707.216) r2: (test=0.968) total time=   1.6s\n",
      "[CV 2/5] END gamma=0.01, learning_rate=1, max_depth=6, n_estimators=500; neg_root_mean_squared_error: (test=-705.024) r2: (test=0.968) total time=   1.5s\n",
      "[CV 3/5] END gamma=0.01, learning_rate=1, max_depth=6, n_estimators=500; neg_root_mean_squared_error: (test=-705.233) r2: (test=0.970) total time=   1.5s\n",
      "[CV 4/5] END gamma=0.01, learning_rate=1, max_depth=6, n_estimators=500; neg_root_mean_squared_error: (test=-697.747) r2: (test=0.969) total time=   1.5s\n",
      "[CV 5/5] END gamma=0.01, learning_rate=1, max_depth=6, n_estimators=500; neg_root_mean_squared_error: (test=-684.691) r2: (test=0.971) total time=   1.5s\n",
      "[CV 1/5] END gamma=0.01, learning_rate=1, max_depth=9, n_estimators=100; neg_root_mean_squared_error: (test=-711.006) r2: (test=0.967) total time=   0.5s\n",
      "[CV 2/5] END gamma=0.01, learning_rate=1, max_depth=9, n_estimators=100; neg_root_mean_squared_error: (test=-718.362) r2: (test=0.967) total time=   0.5s\n",
      "[CV 3/5] END gamma=0.01, learning_rate=1, max_depth=9, n_estimators=100; neg_root_mean_squared_error: (test=-748.013) r2: (test=0.966) total time=   0.5s\n",
      "[CV 4/5] END gamma=0.01, learning_rate=1, max_depth=9, n_estimators=100; neg_root_mean_squared_error: (test=-716.575) r2: (test=0.967) total time=   0.5s\n",
      "[CV 5/5] END gamma=0.01, learning_rate=1, max_depth=9, n_estimators=100; neg_root_mean_squared_error: (test=-686.500) r2: (test=0.971) total time=   0.5s\n",
      "[CV 1/5] END gamma=0.01, learning_rate=1, max_depth=9, n_estimators=200; neg_root_mean_squared_error: (test=-714.381) r2: (test=0.967) total time=   1.1s\n",
      "[CV 2/5] END gamma=0.01, learning_rate=1, max_depth=9, n_estimators=200; neg_root_mean_squared_error: (test=-721.718) r2: (test=0.967) total time=   1.1s\n",
      "[CV 3/5] END gamma=0.01, learning_rate=1, max_depth=9, n_estimators=200; neg_root_mean_squared_error: (test=-753.455) r2: (test=0.965) total time=   1.1s\n",
      "[CV 4/5] END gamma=0.01, learning_rate=1, max_depth=9, n_estimators=200; neg_root_mean_squared_error: (test=-721.276) r2: (test=0.967) total time=   1.1s\n",
      "[CV 5/5] END gamma=0.01, learning_rate=1, max_depth=9, n_estimators=200; neg_root_mean_squared_error: (test=-691.128) r2: (test=0.970) total time=   1.1s\n",
      "[CV 1/5] END gamma=0.01, learning_rate=1, max_depth=9, n_estimators=500; neg_root_mean_squared_error: (test=-715.141) r2: (test=0.967) total time=   2.9s\n",
      "[CV 2/5] END gamma=0.01, learning_rate=1, max_depth=9, n_estimators=500; neg_root_mean_squared_error: (test=-722.639) r2: (test=0.967) total time=   2.9s\n",
      "[CV 3/5] END gamma=0.01, learning_rate=1, max_depth=9, n_estimators=500; neg_root_mean_squared_error: (test=-754.694) r2: (test=0.965) total time=   3.5s\n",
      "[CV 4/5] END gamma=0.01, learning_rate=1, max_depth=9, n_estimators=500; neg_root_mean_squared_error: (test=-722.515) r2: (test=0.966) total time=   3.3s\n",
      "[CV 5/5] END gamma=0.01, learning_rate=1, max_depth=9, n_estimators=500; neg_root_mean_squared_error: (test=-692.483) r2: (test=0.970) total time=   3.5s\n",
      "[CV 1/5] END gamma=0.1, learning_rate=0.001, max_depth=3, n_estimators=100; neg_root_mean_squared_error: (test=-5010.961) r2: (test=-0.621) total time=   0.1s\n",
      "[CV 2/5] END gamma=0.1, learning_rate=0.001, max_depth=3, n_estimators=100; neg_root_mean_squared_error: (test=-5099.459) r2: (test=-0.652) total time=   0.1s\n",
      "[CV 3/5] END gamma=0.1, learning_rate=0.001, max_depth=3, n_estimators=100; neg_root_mean_squared_error: (test=-5205.369) r2: (test=-0.647) total time=   0.1s\n",
      "[CV 4/5] END gamma=0.1, learning_rate=0.001, max_depth=3, n_estimators=100; neg_root_mean_squared_error: (test=-5033.934) r2: (test=-0.628) total time=   0.1s\n",
      "[CV 5/5] END gamma=0.1, learning_rate=0.001, max_depth=3, n_estimators=100; neg_root_mean_squared_error: (test=-5104.119) r2: (test=-0.622) total time=   0.1s\n",
      "[CV 1/5] END gamma=0.1, learning_rate=0.001, max_depth=3, n_estimators=200; neg_root_mean_squared_error: (test=-4569.116) r2: (test=-0.348) total time=   0.2s\n",
      "[CV 2/5] END gamma=0.1, learning_rate=0.001, max_depth=3, n_estimators=200; neg_root_mean_squared_error: (test=-4651.096) r2: (test=-0.374) total time=   0.2s\n",
      "[CV 3/5] END gamma=0.1, learning_rate=0.001, max_depth=3, n_estimators=200; neg_root_mean_squared_error: (test=-4751.950) r2: (test=-0.373) total time=   0.2s\n",
      "[CV 4/5] END gamma=0.1, learning_rate=0.001, max_depth=3, n_estimators=200; neg_root_mean_squared_error: (test=-4587.308) r2: (test=-0.352) total time=   0.2s\n",
      "[CV 5/5] END gamma=0.1, learning_rate=0.001, max_depth=3, n_estimators=200; neg_root_mean_squared_error: (test=-4657.990) r2: (test=-0.351) total time=   0.3s\n",
      "[CV 1/5] END gamma=0.1, learning_rate=0.001, max_depth=3, n_estimators=500; neg_root_mean_squared_error: (test=-3490.590) r2: (test=0.214) total time=   0.7s\n",
      "[CV 2/5] END gamma=0.1, learning_rate=0.001, max_depth=3, n_estimators=500; neg_root_mean_squared_error: (test=-3560.838) r2: (test=0.195) total time=   0.7s\n",
      "[CV 3/5] END gamma=0.1, learning_rate=0.001, max_depth=3, n_estimators=500; neg_root_mean_squared_error: (test=-3644.004) r2: (test=0.193) total time=   0.7s\n",
      "[CV 4/5] END gamma=0.1, learning_rate=0.001, max_depth=3, n_estimators=500; neg_root_mean_squared_error: (test=-3499.349) r2: (test=0.213) total time=   0.7s\n",
      "[CV 5/5] END gamma=0.1, learning_rate=0.001, max_depth=3, n_estimators=500; neg_root_mean_squared_error: (test=-3571.097) r2: (test=0.206) total time=   0.7s\n",
      "[CV 1/5] END gamma=0.1, learning_rate=0.001, max_depth=6, n_estimators=100; neg_root_mean_squared_error: (test=-4993.548) r2: (test=-0.610) total time=   0.2s\n",
      "[CV 2/5] END gamma=0.1, learning_rate=0.001, max_depth=6, n_estimators=100; neg_root_mean_squared_error: (test=-5079.450) r2: (test=-0.639) total time=   0.2s\n",
      "[CV 3/5] END gamma=0.1, learning_rate=0.001, max_depth=6, n_estimators=100; neg_root_mean_squared_error: (test=-5185.072) r2: (test=-0.634) total time=   0.3s\n",
      "[CV 4/5] END gamma=0.1, learning_rate=0.001, max_depth=6, n_estimators=100; neg_root_mean_squared_error: (test=-5019.317) r2: (test=-0.619) total time=   0.3s\n",
      "[CV 5/5] END gamma=0.1, learning_rate=0.001, max_depth=6, n_estimators=100; neg_root_mean_squared_error: (test=-5084.022) r2: (test=-0.609) total time=   0.2s\n",
      "[CV 1/5] END gamma=0.1, learning_rate=0.001, max_depth=6, n_estimators=200; neg_root_mean_squared_error: (test=-4534.243) r2: (test=-0.327) total time=   0.6s\n",
      "[CV 2/5] END gamma=0.1, learning_rate=0.001, max_depth=6, n_estimators=200; neg_root_mean_squared_error: (test=-4610.220) r2: (test=-0.350) total time=   0.6s\n",
      "[CV 3/5] END gamma=0.1, learning_rate=0.001, max_depth=6, n_estimators=200; neg_root_mean_squared_error: (test=-4710.278) r2: (test=-0.349) total time=   0.6s\n",
      "[CV 4/5] END gamma=0.1, learning_rate=0.001, max_depth=6, n_estimators=200; neg_root_mean_squared_error: (test=-4557.834) r2: (test=-0.335) total time=   0.7s\n",
      "[CV 5/5] END gamma=0.1, learning_rate=0.001, max_depth=6, n_estimators=200; neg_root_mean_squared_error: (test=-4617.609) r2: (test=-0.327) total time=   0.6s\n",
      "[CV 1/5] END gamma=0.1, learning_rate=0.001, max_depth=6, n_estimators=500; neg_root_mean_squared_error: (test=-3407.198) r2: (test=0.251) total time=   1.5s\n",
      "[CV 2/5] END gamma=0.1, learning_rate=0.001, max_depth=6, n_estimators=500; neg_root_mean_squared_error: (test=-3461.107) r2: (test=0.239) total time=   1.5s\n",
      "[CV 3/5] END gamma=0.1, learning_rate=0.001, max_depth=6, n_estimators=500; neg_root_mean_squared_error: (test=-3545.724) r2: (test=0.236) total time=   1.5s\n",
      "[CV 4/5] END gamma=0.1, learning_rate=0.001, max_depth=6, n_estimators=500; neg_root_mean_squared_error: (test=-3424.376) r2: (test=0.247) total time=   1.4s\n",
      "[CV 5/5] END gamma=0.1, learning_rate=0.001, max_depth=6, n_estimators=500; neg_root_mean_squared_error: (test=-3471.776) r2: (test=0.250) total time=   1.4s\n"
     ]
    },
    {
     "name": "stdout",
     "output_type": "stream",
     "text": [
      "[CV 1/5] END gamma=0.1, learning_rate=0.001, max_depth=9, n_estimators=100; neg_root_mean_squared_error: (test=-4989.897) r2: (test=-0.607) total time=   0.4s\n",
      "[CV 2/5] END gamma=0.1, learning_rate=0.001, max_depth=9, n_estimators=100; neg_root_mean_squared_error: (test=-5076.949) r2: (test=-0.637) total time=   0.4s\n",
      "[CV 3/5] END gamma=0.1, learning_rate=0.001, max_depth=9, n_estimators=100; neg_root_mean_squared_error: (test=-5180.806) r2: (test=-0.632) total time=   0.4s\n",
      "[CV 4/5] END gamma=0.1, learning_rate=0.001, max_depth=9, n_estimators=100; neg_root_mean_squared_error: (test=-5016.167) r2: (test=-0.617) total time=   0.4s\n",
      "[CV 5/5] END gamma=0.1, learning_rate=0.001, max_depth=9, n_estimators=100; neg_root_mean_squared_error: (test=-5080.928) r2: (test=-0.607) total time=   0.4s\n",
      "[CV 1/5] END gamma=0.1, learning_rate=0.001, max_depth=9, n_estimators=200; neg_root_mean_squared_error: (test=-4526.922) r2: (test=-0.323) total time=   1.0s\n",
      "[CV 2/5] END gamma=0.1, learning_rate=0.001, max_depth=9, n_estimators=200; neg_root_mean_squared_error: (test=-4605.306) r2: (test=-0.347) total time=   1.0s\n",
      "[CV 3/5] END gamma=0.1, learning_rate=0.001, max_depth=9, n_estimators=200; neg_root_mean_squared_error: (test=-4702.658) r2: (test=-0.344) total time=   1.0s\n",
      "[CV 4/5] END gamma=0.1, learning_rate=0.001, max_depth=9, n_estimators=200; neg_root_mean_squared_error: (test=-4551.125) r2: (test=-0.331) total time=   1.0s\n",
      "[CV 5/5] END gamma=0.1, learning_rate=0.001, max_depth=9, n_estimators=200; neg_root_mean_squared_error: (test=-4612.352) r2: (test=-0.324) total time=   1.0s\n",
      "[CV 1/5] END gamma=0.1, learning_rate=0.001, max_depth=9, n_estimators=500; neg_root_mean_squared_error: (test=-3389.792) r2: (test=0.258) total time=   2.9s\n",
      "[CV 2/5] END gamma=0.1, learning_rate=0.001, max_depth=9, n_estimators=500; neg_root_mean_squared_error: (test=-3445.058) r2: (test=0.246) total time=   3.0s\n",
      "[CV 3/5] END gamma=0.1, learning_rate=0.001, max_depth=9, n_estimators=500; neg_root_mean_squared_error: (test=-3527.260) r2: (test=0.244) total time=   3.1s\n",
      "[CV 4/5] END gamma=0.1, learning_rate=0.001, max_depth=9, n_estimators=500; neg_root_mean_squared_error: (test=-3409.578) r2: (test=0.253) total time=   3.0s\n",
      "[CV 5/5] END gamma=0.1, learning_rate=0.001, max_depth=9, n_estimators=500; neg_root_mean_squared_error: (test=-3460.528) r2: (test=0.255) total time=   2.9s\n",
      "[CV 1/5] END gamma=0.1, learning_rate=0.01, max_depth=3, n_estimators=100; neg_root_mean_squared_error: (test=-2314.169) r2: (test=0.654) total time=   0.1s\n",
      "[CV 2/5] END gamma=0.1, learning_rate=0.01, max_depth=3, n_estimators=100; neg_root_mean_squared_error: (test=-2370.876) r2: (test=0.643) total time=   0.1s\n",
      "[CV 3/5] END gamma=0.1, learning_rate=0.01, max_depth=3, n_estimators=100; neg_root_mean_squared_error: (test=-2435.289) r2: (test=0.639) total time=   0.1s\n",
      "[CV 4/5] END gamma=0.1, learning_rate=0.01, max_depth=3, n_estimators=100; neg_root_mean_squared_error: (test=-2310.362) r2: (test=0.657) total time=   0.1s\n",
      "[CV 5/5] END gamma=0.1, learning_rate=0.01, max_depth=3, n_estimators=100; neg_root_mean_squared_error: (test=-2380.939) r2: (test=0.647) total time=   0.1s\n",
      "[CV 1/5] END gamma=0.1, learning_rate=0.01, max_depth=3, n_estimators=200; neg_root_mean_squared_error: (test=-1290.050) r2: (test=0.893) total time=   0.3s\n",
      "[CV 2/5] END gamma=0.1, learning_rate=0.01, max_depth=3, n_estimators=200; neg_root_mean_squared_error: (test=-1339.385) r2: (test=0.886) total time=   0.3s\n",
      "[CV 3/5] END gamma=0.1, learning_rate=0.01, max_depth=3, n_estimators=200; neg_root_mean_squared_error: (test=-1374.873) r2: (test=0.885) total time=   0.3s\n",
      "[CV 4/5] END gamma=0.1, learning_rate=0.01, max_depth=3, n_estimators=200; neg_root_mean_squared_error: (test=-1287.652) r2: (test=0.893) total time=   0.2s\n",
      "[CV 5/5] END gamma=0.1, learning_rate=0.01, max_depth=3, n_estimators=200; neg_root_mean_squared_error: (test=-1333.505) r2: (test=0.889) total time=   0.2s\n",
      "[CV 1/5] END gamma=0.1, learning_rate=0.01, max_depth=3, n_estimators=500; neg_root_mean_squared_error: (test=-815.272) r2: (test=0.957) total time=   0.8s\n",
      "[CV 2/5] END gamma=0.1, learning_rate=0.01, max_depth=3, n_estimators=500; neg_root_mean_squared_error: (test=-858.615) r2: (test=0.953) total time=   0.8s\n",
      "[CV 3/5] END gamma=0.1, learning_rate=0.01, max_depth=3, n_estimators=500; neg_root_mean_squared_error: (test=-863.348) r2: (test=0.955) total time=   0.8s\n",
      "[CV 4/5] END gamma=0.1, learning_rate=0.01, max_depth=3, n_estimators=500; neg_root_mean_squared_error: (test=-824.824) r2: (test=0.956) total time=   0.8s\n",
      "[CV 5/5] END gamma=0.1, learning_rate=0.01, max_depth=3, n_estimators=500; neg_root_mean_squared_error: (test=-812.806) r2: (test=0.959) total time=   0.8s\n",
      "[CV 1/5] END gamma=0.1, learning_rate=0.01, max_depth=6, n_estimators=100; neg_root_mean_squared_error: (test=-2148.707) r2: (test=0.702) total time=   0.3s\n",
      "[CV 2/5] END gamma=0.1, learning_rate=0.01, max_depth=6, n_estimators=100; neg_root_mean_squared_error: (test=-2182.695) r2: (test=0.697) total time=   0.2s\n",
      "[CV 3/5] END gamma=0.1, learning_rate=0.01, max_depth=6, n_estimators=100; neg_root_mean_squared_error: (test=-2243.340) r2: (test=0.694) total time=   0.2s\n",
      "[CV 4/5] END gamma=0.1, learning_rate=0.01, max_depth=6, n_estimators=100; neg_root_mean_squared_error: (test=-2160.870) r2: (test=0.700) total time=   0.2s\n",
      "[CV 5/5] END gamma=0.1, learning_rate=0.01, max_depth=6, n_estimators=100; neg_root_mean_squared_error: (test=-2197.167) r2: (test=0.700) total time=   0.2s\n",
      "[CV 1/5] END gamma=0.1, learning_rate=0.01, max_depth=6, n_estimators=200; neg_root_mean_squared_error: (test=-1014.018) r2: (test=0.934) total time=   0.6s\n",
      "[CV 2/5] END gamma=0.1, learning_rate=0.01, max_depth=6, n_estimators=200; neg_root_mean_squared_error: (test=-1031.010) r2: (test=0.932) total time=   0.6s\n",
      "[CV 3/5] END gamma=0.1, learning_rate=0.01, max_depth=6, n_estimators=200; neg_root_mean_squared_error: (test=-1061.493) r2: (test=0.932) total time=   0.6s\n",
      "[CV 4/5] END gamma=0.1, learning_rate=0.01, max_depth=6, n_estimators=200; neg_root_mean_squared_error: (test=-1016.178) r2: (test=0.934) total time=   0.6s\n",
      "[CV 5/5] END gamma=0.1, learning_rate=0.01, max_depth=6, n_estimators=200; neg_root_mean_squared_error: (test=-1036.472) r2: (test=0.933) total time=   0.6s\n",
      "[CV 1/5] END gamma=0.1, learning_rate=0.01, max_depth=6, n_estimators=500; neg_root_mean_squared_error: (test=-564.029) r2: (test=0.979) total time=   1.7s\n",
      "[CV 2/5] END gamma=0.1, learning_rate=0.01, max_depth=6, n_estimators=500; neg_root_mean_squared_error: (test=-585.083) r2: (test=0.978) total time=   1.7s\n",
      "[CV 3/5] END gamma=0.1, learning_rate=0.01, max_depth=6, n_estimators=500; neg_root_mean_squared_error: (test=-572.415) r2: (test=0.980) total time=   1.7s\n",
      "[CV 4/5] END gamma=0.1, learning_rate=0.01, max_depth=6, n_estimators=500; neg_root_mean_squared_error: (test=-552.714) r2: (test=0.980) total time=   1.6s\n",
      "[CV 5/5] END gamma=0.1, learning_rate=0.01, max_depth=6, n_estimators=500; neg_root_mean_squared_error: (test=-555.071) r2: (test=0.981) total time=   1.6s\n",
      "[CV 1/5] END gamma=0.1, learning_rate=0.01, max_depth=9, n_estimators=100; neg_root_mean_squared_error: (test=-2118.084) r2: (test=0.710) total time=   0.5s\n",
      "[CV 2/5] END gamma=0.1, learning_rate=0.01, max_depth=9, n_estimators=100; neg_root_mean_squared_error: (test=-2142.230) r2: (test=0.709) total time=   0.6s\n",
      "[CV 3/5] END gamma=0.1, learning_rate=0.01, max_depth=9, n_estimators=100; neg_root_mean_squared_error: (test=-2203.320) r2: (test=0.705) total time=   0.5s\n",
      "[CV 4/5] END gamma=0.1, learning_rate=0.01, max_depth=9, n_estimators=100; neg_root_mean_squared_error: (test=-2129.050) r2: (test=0.709) total time=   0.5s\n",
      "[CV 5/5] END gamma=0.1, learning_rate=0.01, max_depth=9, n_estimators=100; neg_root_mean_squared_error: (test=-2168.984) r2: (test=0.707) total time=   0.6s\n",
      "[CV 1/5] END gamma=0.1, learning_rate=0.01, max_depth=9, n_estimators=200; neg_root_mean_squared_error: (test=-949.466) r2: (test=0.942) total time=   1.3s\n",
      "[CV 2/5] END gamma=0.1, learning_rate=0.01, max_depth=9, n_estimators=200; neg_root_mean_squared_error: (test=-955.029) r2: (test=0.942) total time=   1.4s\n",
      "[CV 3/5] END gamma=0.1, learning_rate=0.01, max_depth=9, n_estimators=200; neg_root_mean_squared_error: (test=-983.015) r2: (test=0.941) total time=   1.2s\n"
     ]
    },
    {
     "name": "stdout",
     "output_type": "stream",
     "text": [
      "[CV 4/5] END gamma=0.1, learning_rate=0.01, max_depth=9, n_estimators=200; neg_root_mean_squared_error: (test=-956.848) r2: (test=0.941) total time=   1.1s\n",
      "[CV 5/5] END gamma=0.1, learning_rate=0.01, max_depth=9, n_estimators=200; neg_root_mean_squared_error: (test=-980.260) r2: (test=0.940) total time=   1.1s\n",
      "[CV 1/5] END gamma=0.1, learning_rate=0.01, max_depth=9, n_estimators=500; neg_root_mean_squared_error: (test=-543.095) r2: (test=0.981) total time=   2.9s\n",
      "[CV 2/5] END gamma=0.1, learning_rate=0.01, max_depth=9, n_estimators=500; neg_root_mean_squared_error: (test=-555.330) r2: (test=0.980) total time=   2.9s\n",
      "[CV 3/5] END gamma=0.1, learning_rate=0.01, max_depth=9, n_estimators=500; neg_root_mean_squared_error: (test=-548.958) r2: (test=0.982) total time=   2.9s\n",
      "[CV 4/5] END gamma=0.1, learning_rate=0.01, max_depth=9, n_estimators=500; neg_root_mean_squared_error: (test=-541.915) r2: (test=0.981) total time=   3.0s\n",
      "[CV 5/5] END gamma=0.1, learning_rate=0.01, max_depth=9, n_estimators=500; neg_root_mean_squared_error: (test=-531.369) r2: (test=0.982) total time=   3.0s\n",
      "[CV 1/5] END gamma=0.1, learning_rate=0.1, max_depth=3, n_estimators=100; neg_root_mean_squared_error: (test=-668.740) r2: (test=0.971) total time=   0.1s\n",
      "[CV 2/5] END gamma=0.1, learning_rate=0.1, max_depth=3, n_estimators=100; neg_root_mean_squared_error: (test=-693.205) r2: (test=0.969) total time=   0.1s\n",
      "[CV 3/5] END gamma=0.1, learning_rate=0.1, max_depth=3, n_estimators=100; neg_root_mean_squared_error: (test=-684.451) r2: (test=0.972) total time=   0.1s\n",
      "[CV 4/5] END gamma=0.1, learning_rate=0.1, max_depth=3, n_estimators=100; neg_root_mean_squared_error: (test=-663.634) r2: (test=0.972) total time=   0.1s\n",
      "[CV 5/5] END gamma=0.1, learning_rate=0.1, max_depth=3, n_estimators=100; neg_root_mean_squared_error: (test=-659.310) r2: (test=0.973) total time=   0.1s\n",
      "[CV 1/5] END gamma=0.1, learning_rate=0.1, max_depth=3, n_estimators=200; neg_root_mean_squared_error: (test=-604.682) r2: (test=0.976) total time=   0.2s\n",
      "[CV 2/5] END gamma=0.1, learning_rate=0.1, max_depth=3, n_estimators=200; neg_root_mean_squared_error: (test=-632.581) r2: (test=0.975) total time=   0.2s\n",
      "[CV 3/5] END gamma=0.1, learning_rate=0.1, max_depth=3, n_estimators=200; neg_root_mean_squared_error: (test=-619.574) r2: (test=0.977) total time=   0.2s\n",
      "[CV 4/5] END gamma=0.1, learning_rate=0.1, max_depth=3, n_estimators=200; neg_root_mean_squared_error: (test=-604.494) r2: (test=0.977) total time=   0.2s\n",
      "[CV 5/5] END gamma=0.1, learning_rate=0.1, max_depth=3, n_estimators=200; neg_root_mean_squared_error: (test=-594.150) r2: (test=0.978) total time=   0.2s\n",
      "[CV 1/5] END gamma=0.1, learning_rate=0.1, max_depth=3, n_estimators=500; neg_root_mean_squared_error: (test=-570.931) r2: (test=0.979) total time=   0.6s\n",
      "[CV 2/5] END gamma=0.1, learning_rate=0.1, max_depth=3, n_estimators=500; neg_root_mean_squared_error: (test=-589.237) r2: (test=0.978) total time=   0.7s\n",
      "[CV 3/5] END gamma=0.1, learning_rate=0.1, max_depth=3, n_estimators=500; neg_root_mean_squared_error: (test=-582.313) r2: (test=0.979) total time=   0.7s\n",
      "[CV 4/5] END gamma=0.1, learning_rate=0.1, max_depth=3, n_estimators=500; neg_root_mean_squared_error: (test=-572.018) r2: (test=0.979) total time=   0.7s\n",
      "[CV 5/5] END gamma=0.1, learning_rate=0.1, max_depth=3, n_estimators=500; neg_root_mean_squared_error: (test=-559.844) r2: (test=0.980) total time=   0.7s\n",
      "[CV 1/5] END gamma=0.1, learning_rate=0.1, max_depth=6, n_estimators=100; neg_root_mean_squared_error: (test=-538.880) r2: (test=0.981) total time=   0.3s\n",
      "[CV 2/5] END gamma=0.1, learning_rate=0.1, max_depth=6, n_estimators=100; neg_root_mean_squared_error: (test=-559.019) r2: (test=0.980) total time=   0.4s\n",
      "[CV 3/5] END gamma=0.1, learning_rate=0.1, max_depth=6, n_estimators=100; neg_root_mean_squared_error: (test=-550.588) r2: (test=0.982) total time=   0.3s\n",
      "[CV 4/5] END gamma=0.1, learning_rate=0.1, max_depth=6, n_estimators=100; neg_root_mean_squared_error: (test=-535.862) r2: (test=0.982) total time=   0.3s\n",
      "[CV 5/5] END gamma=0.1, learning_rate=0.1, max_depth=6, n_estimators=100; neg_root_mean_squared_error: (test=-525.709) r2: (test=0.983) total time=   0.3s\n",
      "[CV 1/5] END gamma=0.1, learning_rate=0.1, max_depth=6, n_estimators=200; neg_root_mean_squared_error: (test=-536.721) r2: (test=0.981) total time=   0.5s\n",
      "[CV 2/5] END gamma=0.1, learning_rate=0.1, max_depth=6, n_estimators=200; neg_root_mean_squared_error: (test=-552.833) r2: (test=0.981) total time=   0.6s\n",
      "[CV 3/5] END gamma=0.1, learning_rate=0.1, max_depth=6, n_estimators=200; neg_root_mean_squared_error: (test=-547.870) r2: (test=0.982) total time=   0.6s\n",
      "[CV 4/5] END gamma=0.1, learning_rate=0.1, max_depth=6, n_estimators=200; neg_root_mean_squared_error: (test=-532.977) r2: (test=0.982) total time=   0.6s\n",
      "[CV 5/5] END gamma=0.1, learning_rate=0.1, max_depth=6, n_estimators=200; neg_root_mean_squared_error: (test=-521.032) r2: (test=0.983) total time=   0.6s\n",
      "[CV 1/5] END gamma=0.1, learning_rate=0.1, max_depth=6, n_estimators=500; neg_root_mean_squared_error: (test=-540.839) r2: (test=0.981) total time=   1.7s\n",
      "[CV 2/5] END gamma=0.1, learning_rate=0.1, max_depth=6, n_estimators=500; neg_root_mean_squared_error: (test=-561.433) r2: (test=0.980) total time=   2.1s\n",
      "[CV 3/5] END gamma=0.1, learning_rate=0.1, max_depth=6, n_estimators=500; neg_root_mean_squared_error: (test=-555.237) r2: (test=0.981) total time=   1.7s\n",
      "[CV 4/5] END gamma=0.1, learning_rate=0.1, max_depth=6, n_estimators=500; neg_root_mean_squared_error: (test=-538.424) r2: (test=0.981) total time=   1.6s\n",
      "[CV 5/5] END gamma=0.1, learning_rate=0.1, max_depth=6, n_estimators=500; neg_root_mean_squared_error: (test=-528.012) r2: (test=0.983) total time=   1.7s\n",
      "[CV 1/5] END gamma=0.1, learning_rate=0.1, max_depth=9, n_estimators=100; neg_root_mean_squared_error: (test=-542.521) r2: (test=0.981) total time=   0.6s\n",
      "[CV 2/5] END gamma=0.1, learning_rate=0.1, max_depth=9, n_estimators=100; neg_root_mean_squared_error: (test=-556.965) r2: (test=0.980) total time=   0.5s\n",
      "[CV 3/5] END gamma=0.1, learning_rate=0.1, max_depth=9, n_estimators=100; neg_root_mean_squared_error: (test=-547.659) r2: (test=0.982) total time=   0.5s\n",
      "[CV 4/5] END gamma=0.1, learning_rate=0.1, max_depth=9, n_estimators=100; neg_root_mean_squared_error: (test=-541.447) r2: (test=0.981) total time=   0.5s\n",
      "[CV 5/5] END gamma=0.1, learning_rate=0.1, max_depth=9, n_estimators=100; neg_root_mean_squared_error: (test=-533.116) r2: (test=0.982) total time=   0.5s\n",
      "[CV 1/5] END gamma=0.1, learning_rate=0.1, max_depth=9, n_estimators=200; neg_root_mean_squared_error: (test=-547.913) r2: (test=0.981) total time=   1.0s\n",
      "[CV 2/5] END gamma=0.1, learning_rate=0.1, max_depth=9, n_estimators=200; neg_root_mean_squared_error: (test=-565.143) r2: (test=0.980) total time=   1.0s\n",
      "[CV 3/5] END gamma=0.1, learning_rate=0.1, max_depth=9, n_estimators=200; neg_root_mean_squared_error: (test=-554.787) r2: (test=0.981) total time=   1.0s\n",
      "[CV 4/5] END gamma=0.1, learning_rate=0.1, max_depth=9, n_estimators=200; neg_root_mean_squared_error: (test=-548.551) r2: (test=0.981) total time=   1.0s\n",
      "[CV 5/5] END gamma=0.1, learning_rate=0.1, max_depth=9, n_estimators=200; neg_root_mean_squared_error: (test=-540.920) r2: (test=0.982) total time=   1.0s\n",
      "[CV 1/5] END gamma=0.1, learning_rate=0.1, max_depth=9, n_estimators=500; neg_root_mean_squared_error: (test=-558.158) r2: (test=0.980) total time=   2.6s\n",
      "[CV 2/5] END gamma=0.1, learning_rate=0.1, max_depth=9, n_estimators=500; neg_root_mean_squared_error: (test=-578.349) r2: (test=0.979) total time=   2.7s\n",
      "[CV 3/5] END gamma=0.1, learning_rate=0.1, max_depth=9, n_estimators=500; neg_root_mean_squared_error: (test=-566.997) r2: (test=0.980) total time=   2.7s\n",
      "[CV 4/5] END gamma=0.1, learning_rate=0.1, max_depth=9, n_estimators=500; neg_root_mean_squared_error: (test=-563.174) r2: (test=0.980) total time=   2.6s\n",
      "[CV 5/5] END gamma=0.1, learning_rate=0.1, max_depth=9, n_estimators=500; neg_root_mean_squared_error: (test=-551.206) r2: (test=0.981) total time=   2.6s\n",
      "[CV 1/5] END gamma=0.1, learning_rate=1, max_depth=3, n_estimators=100; neg_root_mean_squared_error: (test=-584.927) r2: (test=0.978) total time=   0.1s\n"
     ]
    },
    {
     "name": "stdout",
     "output_type": "stream",
     "text": [
      "[CV 2/5] END gamma=0.1, learning_rate=1, max_depth=3, n_estimators=100; neg_root_mean_squared_error: (test=-624.969) r2: (test=0.975) total time=   0.1s\n",
      "[CV 3/5] END gamma=0.1, learning_rate=1, max_depth=3, n_estimators=100; neg_root_mean_squared_error: (test=-607.117) r2: (test=0.978) total time=   0.1s\n",
      "[CV 4/5] END gamma=0.1, learning_rate=1, max_depth=3, n_estimators=100; neg_root_mean_squared_error: (test=-590.608) r2: (test=0.978) total time=   0.1s\n",
      "[CV 5/5] END gamma=0.1, learning_rate=1, max_depth=3, n_estimators=100; neg_root_mean_squared_error: (test=-579.325) r2: (test=0.979) total time=   0.1s\n",
      "[CV 1/5] END gamma=0.1, learning_rate=1, max_depth=3, n_estimators=200; neg_root_mean_squared_error: (test=-576.304) r2: (test=0.979) total time=   0.3s\n",
      "[CV 2/5] END gamma=0.1, learning_rate=1, max_depth=3, n_estimators=200; neg_root_mean_squared_error: (test=-612.315) r2: (test=0.976) total time=   0.3s\n",
      "[CV 3/5] END gamma=0.1, learning_rate=1, max_depth=3, n_estimators=200; neg_root_mean_squared_error: (test=-616.030) r2: (test=0.977) total time=   0.2s\n",
      "[CV 4/5] END gamma=0.1, learning_rate=1, max_depth=3, n_estimators=200; neg_root_mean_squared_error: (test=-586.535) r2: (test=0.978) total time=   0.2s\n",
      "[CV 5/5] END gamma=0.1, learning_rate=1, max_depth=3, n_estimators=200; neg_root_mean_squared_error: (test=-570.120) r2: (test=0.980) total time=   0.3s\n",
      "[CV 1/5] END gamma=0.1, learning_rate=1, max_depth=3, n_estimators=500; neg_root_mean_squared_error: (test=-587.260) r2: (test=0.978) total time=   0.8s\n",
      "[CV 2/5] END gamma=0.1, learning_rate=1, max_depth=3, n_estimators=500; neg_root_mean_squared_error: (test=-616.524) r2: (test=0.976) total time=   0.7s\n",
      "[CV 3/5] END gamma=0.1, learning_rate=1, max_depth=3, n_estimators=500; neg_root_mean_squared_error: (test=-625.925) r2: (test=0.976) total time=   0.7s\n",
      "[CV 4/5] END gamma=0.1, learning_rate=1, max_depth=3, n_estimators=500; neg_root_mean_squared_error: (test=-588.255) r2: (test=0.978) total time=   0.8s\n",
      "[CV 5/5] END gamma=0.1, learning_rate=1, max_depth=3, n_estimators=500; neg_root_mean_squared_error: (test=-576.555) r2: (test=0.979) total time=   0.8s\n",
      "[CV 1/5] END gamma=0.1, learning_rate=1, max_depth=6, n_estimators=100; neg_root_mean_squared_error: (test=-674.815) r2: (test=0.971) total time=   0.3s\n",
      "[CV 2/5] END gamma=0.1, learning_rate=1, max_depth=6, n_estimators=100; neg_root_mean_squared_error: (test=-673.943) r2: (test=0.971) total time=   0.3s\n",
      "[CV 3/5] END gamma=0.1, learning_rate=1, max_depth=6, n_estimators=100; neg_root_mean_squared_error: (test=-669.675) r2: (test=0.973) total time=   0.3s\n",
      "[CV 4/5] END gamma=0.1, learning_rate=1, max_depth=6, n_estimators=100; neg_root_mean_squared_error: (test=-641.599) r2: (test=0.974) total time=   0.3s\n",
      "[CV 5/5] END gamma=0.1, learning_rate=1, max_depth=6, n_estimators=100; neg_root_mean_squared_error: (test=-640.555) r2: (test=0.974) total time=   0.3s\n",
      "[CV 1/5] END gamma=0.1, learning_rate=1, max_depth=6, n_estimators=200; neg_root_mean_squared_error: (test=-687.676) r2: (test=0.969) total time=   0.6s\n",
      "[CV 2/5] END gamma=0.1, learning_rate=1, max_depth=6, n_estimators=200; neg_root_mean_squared_error: (test=-685.400) r2: (test=0.970) total time=   0.6s\n",
      "[CV 3/5] END gamma=0.1, learning_rate=1, max_depth=6, n_estimators=200; neg_root_mean_squared_error: (test=-686.476) r2: (test=0.971) total time=   0.6s\n",
      "[CV 4/5] END gamma=0.1, learning_rate=1, max_depth=6, n_estimators=200; neg_root_mean_squared_error: (test=-668.910) r2: (test=0.971) total time=   0.6s\n",
      "[CV 5/5] END gamma=0.1, learning_rate=1, max_depth=6, n_estimators=200; neg_root_mean_squared_error: (test=-662.862) r2: (test=0.973) total time=   0.6s\n",
      "[CV 1/5] END gamma=0.1, learning_rate=1, max_depth=6, n_estimators=500; neg_root_mean_squared_error: (test=-707.216) r2: (test=0.968) total time=   1.6s\n",
      "[CV 2/5] END gamma=0.1, learning_rate=1, max_depth=6, n_estimators=500; neg_root_mean_squared_error: (test=-705.024) r2: (test=0.968) total time=   1.6s\n",
      "[CV 3/5] END gamma=0.1, learning_rate=1, max_depth=6, n_estimators=500; neg_root_mean_squared_error: (test=-705.233) r2: (test=0.970) total time=   1.7s\n",
      "[CV 4/5] END gamma=0.1, learning_rate=1, max_depth=6, n_estimators=500; neg_root_mean_squared_error: (test=-697.747) r2: (test=0.969) total time=   1.7s\n",
      "[CV 5/5] END gamma=0.1, learning_rate=1, max_depth=6, n_estimators=500; neg_root_mean_squared_error: (test=-684.691) r2: (test=0.971) total time=   1.7s\n",
      "[CV 1/5] END gamma=0.1, learning_rate=1, max_depth=9, n_estimators=100; neg_root_mean_squared_error: (test=-711.006) r2: (test=0.967) total time=   0.5s\n",
      "[CV 2/5] END gamma=0.1, learning_rate=1, max_depth=9, n_estimators=100; neg_root_mean_squared_error: (test=-718.362) r2: (test=0.967) total time=   0.6s\n",
      "[CV 3/5] END gamma=0.1, learning_rate=1, max_depth=9, n_estimators=100; neg_root_mean_squared_error: (test=-748.013) r2: (test=0.966) total time=   0.6s\n",
      "[CV 4/5] END gamma=0.1, learning_rate=1, max_depth=9, n_estimators=100; neg_root_mean_squared_error: (test=-718.138) r2: (test=0.967) total time=   0.5s\n",
      "[CV 5/5] END gamma=0.1, learning_rate=1, max_depth=9, n_estimators=100; neg_root_mean_squared_error: (test=-685.084) r2: (test=0.971) total time=   0.5s\n",
      "[CV 1/5] END gamma=0.1, learning_rate=1, max_depth=9, n_estimators=200; neg_root_mean_squared_error: (test=-714.100) r2: (test=0.967) total time=   1.2s\n",
      "[CV 2/5] END gamma=0.1, learning_rate=1, max_depth=9, n_estimators=200; neg_root_mean_squared_error: (test=-722.058) r2: (test=0.967) total time=   1.2s\n",
      "[CV 3/5] END gamma=0.1, learning_rate=1, max_depth=9, n_estimators=200; neg_root_mean_squared_error: (test=-754.203) r2: (test=0.965) total time=   1.3s\n",
      "[CV 4/5] END gamma=0.1, learning_rate=1, max_depth=9, n_estimators=200; neg_root_mean_squared_error: (test=-720.684) r2: (test=0.967) total time=   1.2s\n",
      "[CV 5/5] END gamma=0.1, learning_rate=1, max_depth=9, n_estimators=200; neg_root_mean_squared_error: (test=-689.366) r2: (test=0.970) total time=   1.2s\n",
      "[CV 1/5] END gamma=0.1, learning_rate=1, max_depth=9, n_estimators=500; neg_root_mean_squared_error: (test=-715.330) r2: (test=0.967) total time=   3.2s\n",
      "[CV 2/5] END gamma=0.1, learning_rate=1, max_depth=9, n_estimators=500; neg_root_mean_squared_error: (test=-722.621) r2: (test=0.967) total time=   3.2s\n",
      "[CV 3/5] END gamma=0.1, learning_rate=1, max_depth=9, n_estimators=500; neg_root_mean_squared_error: (test=-755.231) r2: (test=0.965) total time=   3.3s\n",
      "[CV 4/5] END gamma=0.1, learning_rate=1, max_depth=9, n_estimators=500; neg_root_mean_squared_error: (test=-721.901) r2: (test=0.967) total time=   3.1s\n",
      "[CV 5/5] END gamma=0.1, learning_rate=1, max_depth=9, n_estimators=500; neg_root_mean_squared_error: (test=-690.829) r2: (test=0.970) total time=   3.2s\n"
     ]
    },
    {
     "data": {
      "text/html": [
       "<style>#sk-container-id-2 {color: black;}#sk-container-id-2 pre{padding: 0;}#sk-container-id-2 div.sk-toggleable {background-color: white;}#sk-container-id-2 label.sk-toggleable__label {cursor: pointer;display: block;width: 100%;margin-bottom: 0;padding: 0.3em;box-sizing: border-box;text-align: center;}#sk-container-id-2 label.sk-toggleable__label-arrow:before {content: \"▸\";float: left;margin-right: 0.25em;color: #696969;}#sk-container-id-2 label.sk-toggleable__label-arrow:hover:before {color: black;}#sk-container-id-2 div.sk-estimator:hover label.sk-toggleable__label-arrow:before {color: black;}#sk-container-id-2 div.sk-toggleable__content {max-height: 0;max-width: 0;overflow: hidden;text-align: left;background-color: #f0f8ff;}#sk-container-id-2 div.sk-toggleable__content pre {margin: 0.2em;color: black;border-radius: 0.25em;background-color: #f0f8ff;}#sk-container-id-2 input.sk-toggleable__control:checked~div.sk-toggleable__content {max-height: 200px;max-width: 100%;overflow: auto;}#sk-container-id-2 input.sk-toggleable__control:checked~label.sk-toggleable__label-arrow:before {content: \"▾\";}#sk-container-id-2 div.sk-estimator input.sk-toggleable__control:checked~label.sk-toggleable__label {background-color: #d4ebff;}#sk-container-id-2 div.sk-label input.sk-toggleable__control:checked~label.sk-toggleable__label {background-color: #d4ebff;}#sk-container-id-2 input.sk-hidden--visually {border: 0;clip: rect(1px 1px 1px 1px);clip: rect(1px, 1px, 1px, 1px);height: 1px;margin: -1px;overflow: hidden;padding: 0;position: absolute;width: 1px;}#sk-container-id-2 div.sk-estimator {font-family: monospace;background-color: #f0f8ff;border: 1px dotted black;border-radius: 0.25em;box-sizing: border-box;margin-bottom: 0.5em;}#sk-container-id-2 div.sk-estimator:hover {background-color: #d4ebff;}#sk-container-id-2 div.sk-parallel-item::after {content: \"\";width: 100%;border-bottom: 1px solid gray;flex-grow: 1;}#sk-container-id-2 div.sk-label:hover label.sk-toggleable__label {background-color: #d4ebff;}#sk-container-id-2 div.sk-serial::before {content: \"\";position: absolute;border-left: 1px solid gray;box-sizing: border-box;top: 0;bottom: 0;left: 50%;z-index: 0;}#sk-container-id-2 div.sk-serial {display: flex;flex-direction: column;align-items: center;background-color: white;padding-right: 0.2em;padding-left: 0.2em;position: relative;}#sk-container-id-2 div.sk-item {position: relative;z-index: 1;}#sk-container-id-2 div.sk-parallel {display: flex;align-items: stretch;justify-content: center;background-color: white;position: relative;}#sk-container-id-2 div.sk-item::before, #sk-container-id-2 div.sk-parallel-item::before {content: \"\";position: absolute;border-left: 1px solid gray;box-sizing: border-box;top: 0;bottom: 0;left: 50%;z-index: -1;}#sk-container-id-2 div.sk-parallel-item {display: flex;flex-direction: column;z-index: 1;position: relative;background-color: white;}#sk-container-id-2 div.sk-parallel-item:first-child::after {align-self: flex-end;width: 50%;}#sk-container-id-2 div.sk-parallel-item:last-child::after {align-self: flex-start;width: 50%;}#sk-container-id-2 div.sk-parallel-item:only-child::after {width: 0;}#sk-container-id-2 div.sk-dashed-wrapped {border: 1px dashed gray;margin: 0 0.4em 0.5em 0.4em;box-sizing: border-box;padding-bottom: 0.4em;background-color: white;}#sk-container-id-2 div.sk-label label {font-family: monospace;font-weight: bold;display: inline-block;line-height: 1.2em;}#sk-container-id-2 div.sk-label-container {text-align: center;}#sk-container-id-2 div.sk-container {/* jupyter's `normalize.less` sets `[hidden] { display: none; }` but bootstrap.min.css set `[hidden] { display: none !important; }` so we also need the `!important` here to be able to override the default hidden behavior on the sphinx rendered scikit-learn.org. See: https://github.com/scikit-learn/scikit-learn/issues/21755 */display: inline-block !important;position: relative;}#sk-container-id-2 div.sk-text-repr-fallback {display: none;}</style><div id=\"sk-container-id-2\" class=\"sk-top-container\"><div class=\"sk-text-repr-fallback\"><pre>GridSearchCV(cv=5,\n",
       "             estimator=XGBRegressor(base_score=None, booster=None,\n",
       "                                    callbacks=None, colsample_bylevel=None,\n",
       "                                    colsample_bynode=None,\n",
       "                                    colsample_bytree=None,\n",
       "                                    early_stopping_rounds=None,\n",
       "                                    enable_categorical=False, eval_metric=None,\n",
       "                                    feature_types=None, gamma=None, gpu_id=None,\n",
       "                                    grow_policy=None, importance_type=None,\n",
       "                                    interaction_constraints=None,\n",
       "                                    learning_rate=None, m...\n",
       "                                    max_depth=None, max_leaves=None,\n",
       "                                    min_child_weight=None, missing=nan,\n",
       "                                    monotone_constraints=None, n_estimators=100,\n",
       "                                    n_jobs=None, num_parallel_tree=None,\n",
       "                                    predictor=None, random_state=42, ...),\n",
       "             param_grid={&#x27;gamma&#x27;: [0.01, 0.1],\n",
       "                         &#x27;learning_rate&#x27;: [0.001, 0.01, 0.1, 1],\n",
       "                         &#x27;max_depth&#x27;: [3, 6, 9],\n",
       "                         &#x27;n_estimators&#x27;: [100, 200, 500]},\n",
       "             refit=&#x27;r2&#x27;, scoring=[&#x27;r2&#x27;, &#x27;neg_root_mean_squared_error&#x27;],\n",
       "             verbose=4)</pre><b>In a Jupyter environment, please rerun this cell to show the HTML representation or trust the notebook. <br />On GitHub, the HTML representation is unable to render, please try loading this page with nbviewer.org.</b></div><div class=\"sk-container\" hidden><div class=\"sk-item sk-dashed-wrapped\"><div class=\"sk-label-container\"><div class=\"sk-label sk-toggleable\"><input class=\"sk-toggleable__control sk-hidden--visually\" id=\"sk-estimator-id-4\" type=\"checkbox\" ><label for=\"sk-estimator-id-4\" class=\"sk-toggleable__label sk-toggleable__label-arrow\">GridSearchCV</label><div class=\"sk-toggleable__content\"><pre>GridSearchCV(cv=5,\n",
       "             estimator=XGBRegressor(base_score=None, booster=None,\n",
       "                                    callbacks=None, colsample_bylevel=None,\n",
       "                                    colsample_bynode=None,\n",
       "                                    colsample_bytree=None,\n",
       "                                    early_stopping_rounds=None,\n",
       "                                    enable_categorical=False, eval_metric=None,\n",
       "                                    feature_types=None, gamma=None, gpu_id=None,\n",
       "                                    grow_policy=None, importance_type=None,\n",
       "                                    interaction_constraints=None,\n",
       "                                    learning_rate=None, m...\n",
       "                                    max_depth=None, max_leaves=None,\n",
       "                                    min_child_weight=None, missing=nan,\n",
       "                                    monotone_constraints=None, n_estimators=100,\n",
       "                                    n_jobs=None, num_parallel_tree=None,\n",
       "                                    predictor=None, random_state=42, ...),\n",
       "             param_grid={&#x27;gamma&#x27;: [0.01, 0.1],\n",
       "                         &#x27;learning_rate&#x27;: [0.001, 0.01, 0.1, 1],\n",
       "                         &#x27;max_depth&#x27;: [3, 6, 9],\n",
       "                         &#x27;n_estimators&#x27;: [100, 200, 500]},\n",
       "             refit=&#x27;r2&#x27;, scoring=[&#x27;r2&#x27;, &#x27;neg_root_mean_squared_error&#x27;],\n",
       "             verbose=4)</pre></div></div></div><div class=\"sk-parallel\"><div class=\"sk-parallel-item\"><div class=\"sk-item\"><div class=\"sk-label-container\"><div class=\"sk-label sk-toggleable\"><input class=\"sk-toggleable__control sk-hidden--visually\" id=\"sk-estimator-id-5\" type=\"checkbox\" ><label for=\"sk-estimator-id-5\" class=\"sk-toggleable__label sk-toggleable__label-arrow\">estimator: XGBRegressor</label><div class=\"sk-toggleable__content\"><pre>XGBRegressor(base_score=None, booster=None, callbacks=None,\n",
       "             colsample_bylevel=None, colsample_bynode=None,\n",
       "             colsample_bytree=None, early_stopping_rounds=None,\n",
       "             enable_categorical=False, eval_metric=None, feature_types=None,\n",
       "             gamma=None, gpu_id=None, grow_policy=None, importance_type=None,\n",
       "             interaction_constraints=None, learning_rate=None, max_bin=None,\n",
       "             max_cat_threshold=None, max_cat_to_onehot=None,\n",
       "             max_delta_step=None, max_depth=None, max_leaves=None,\n",
       "             min_child_weight=None, missing=nan, monotone_constraints=None,\n",
       "             n_estimators=100, n_jobs=None, num_parallel_tree=None,\n",
       "             predictor=None, random_state=42, ...)</pre></div></div></div><div class=\"sk-serial\"><div class=\"sk-item\"><div class=\"sk-estimator sk-toggleable\"><input class=\"sk-toggleable__control sk-hidden--visually\" id=\"sk-estimator-id-6\" type=\"checkbox\" ><label for=\"sk-estimator-id-6\" class=\"sk-toggleable__label sk-toggleable__label-arrow\">XGBRegressor</label><div class=\"sk-toggleable__content\"><pre>XGBRegressor(base_score=None, booster=None, callbacks=None,\n",
       "             colsample_bylevel=None, colsample_bynode=None,\n",
       "             colsample_bytree=None, early_stopping_rounds=None,\n",
       "             enable_categorical=False, eval_metric=None, feature_types=None,\n",
       "             gamma=None, gpu_id=None, grow_policy=None, importance_type=None,\n",
       "             interaction_constraints=None, learning_rate=None, max_bin=None,\n",
       "             max_cat_threshold=None, max_cat_to_onehot=None,\n",
       "             max_delta_step=None, max_depth=None, max_leaves=None,\n",
       "             min_child_weight=None, missing=nan, monotone_constraints=None,\n",
       "             n_estimators=100, n_jobs=None, num_parallel_tree=None,\n",
       "             predictor=None, random_state=42, ...)</pre></div></div></div></div></div></div></div></div></div></div>"
      ],
      "text/plain": [
       "GridSearchCV(cv=5,\n",
       "             estimator=XGBRegressor(base_score=None, booster=None,\n",
       "                                    callbacks=None, colsample_bylevel=None,\n",
       "                                    colsample_bynode=None,\n",
       "                                    colsample_bytree=None,\n",
       "                                    early_stopping_rounds=None,\n",
       "                                    enable_categorical=False, eval_metric=None,\n",
       "                                    feature_types=None, gamma=None, gpu_id=None,\n",
       "                                    grow_policy=None, importance_type=None,\n",
       "                                    interaction_constraints=None,\n",
       "                                    learning_rate=None, m...\n",
       "                                    max_depth=None, max_leaves=None,\n",
       "                                    min_child_weight=None, missing=nan,\n",
       "                                    monotone_constraints=None, n_estimators=100,\n",
       "                                    n_jobs=None, num_parallel_tree=None,\n",
       "                                    predictor=None, random_state=42, ...),\n",
       "             param_grid={'gamma': [0.01, 0.1],\n",
       "                         'learning_rate': [0.001, 0.01, 0.1, 1],\n",
       "                         'max_depth': [3, 6, 9],\n",
       "                         'n_estimators': [100, 200, 500]},\n",
       "             refit='r2', scoring=['r2', 'neg_root_mean_squared_error'],\n",
       "             verbose=4)"
      ]
     },
     "execution_count": 56,
     "metadata": {},
     "output_type": "execute_result"
    }
   ],
   "source": [
    "GS.fit(X_train, y_train)"
   ]
  },
  {
   "cell_type": "code",
   "execution_count": 57,
   "id": "c8e3045f",
   "metadata": {},
   "outputs": [
    {
     "name": "stdout",
     "output_type": "stream",
     "text": [
      "XGBRegressor(base_score=None, booster=None, callbacks=None,\n",
      "             colsample_bylevel=None, colsample_bynode=None,\n",
      "             colsample_bytree=None, early_stopping_rounds=None,\n",
      "             enable_categorical=False, eval_metric=None, feature_types=None,\n",
      "             gamma=0.01, gpu_id=None, grow_policy=None, importance_type=None,\n",
      "             interaction_constraints=None, learning_rate=0.1, max_bin=None,\n",
      "             max_cat_threshold=None, max_cat_to_onehot=None,\n",
      "             max_delta_step=None, max_depth=6, max_leaves=None,\n",
      "             min_child_weight=None, missing=nan, monotone_constraints=None,\n",
      "             n_estimators=200, n_jobs=None, num_parallel_tree=None,\n",
      "             predictor=None, random_state=42, ...)\n"
     ]
    }
   ],
   "source": [
    "print(GS.best_estimator_) # To get the complete details of the best model"
   ]
  },
  {
   "cell_type": "code",
   "execution_count": 58,
   "id": "f132a321",
   "metadata": {},
   "outputs": [
    {
     "name": "stdout",
     "output_type": "stream",
     "text": [
      "{'gamma': 0.01, 'learning_rate': 0.1, 'max_depth': 6, 'n_estimators': 200}\n"
     ]
    }
   ],
   "source": [
    "print(GS.best_params_) # to get only the best hypterparameter values that we searched for"
   ]
  },
  {
   "cell_type": "code",
   "execution_count": 59,
   "id": "90fa668a",
   "metadata": {},
   "outputs": [
    {
     "name": "stdout",
     "output_type": "stream",
     "text": [
      "0.9817200001483405\n"
     ]
    }
   ],
   "source": [
    "print(GS.best_score_) # score according to the metric we passed in refit"
   ]
  },
  {
   "cell_type": "code",
   "execution_count": 36,
   "id": "327ac101",
   "metadata": {},
   "outputs": [],
   "source": [
    "df = pd.DataFrame(GS.cv_results_)\n",
    "df = df.sort_values('rank_test_r2')\n",
    "df.to_csv('cv_results.csv')"
   ]
  },
  {
   "cell_type": "code",
   "execution_count": 37,
   "id": "1ff55844",
   "metadata": {},
   "outputs": [
    {
     "name": "stdout",
     "output_type": "stream",
     "text": [
      "Mejores hiperparámetros: {'gamma': 0.01, 'learning_rate': 0.1, 'max_depth': 6, 'n_estimators': 200}\n"
     ]
    }
   ],
   "source": [
    "# Obtener los mejores hiperparámetros\n",
    "best_params = GS.best_params_\n",
    "print(\"Mejores hiperparámetros:\", best_params)\n",
    "\n",
    "# Obtener los resultados\n",
    "results = GS.cv_results_\n"
   ]
  },
  {
   "cell_type": "code",
   "execution_count": 38,
   "id": "c393b328",
   "metadata": {},
   "outputs": [
    {
     "name": "stdout",
     "output_type": "stream",
     "text": [
      "RMSE en datos de prueba: 540.9210137299019\n"
     ]
    }
   ],
   "source": [
    "# Obtener el mejor modelo\n",
    "best_model = GS.best_estimator_\n",
    "\n",
    "# Predecir los valores en los datos de prueba\n",
    "y_pred = best_model.predict(X_test)\n",
    "\n",
    "# Calcular métricas de evaluación\n",
    "mse = mean_squared_error(y_test, y_pred)\n",
    "rmse = np.sqrt(mse)\n",
    "print(\"RMSE en datos de prueba:\", rmse)\n"
   ]
  },
  {
   "cell_type": "code",
   "execution_count": 39,
   "id": "7bf0ff89",
   "metadata": {},
   "outputs": [
    {
     "data": {
      "text/plain": [
       "array([2853.467 , 5742.2393, 9678.099 , ..., 3133.5227, 2004.9507,\n",
       "        827.8709], dtype=float32)"
      ]
     },
     "execution_count": 39,
     "metadata": {},
     "output_type": "execute_result"
    }
   ],
   "source": [
    "# Hacer predicciones en diamonds_test utilizando el mejor modelo obtenido\n",
    "y_prediction = best_model.predict(diamonds_test)\n",
    "y_prediction"
   ]
  },
  {
   "cell_type": "code",
   "execution_count": 40,
   "id": "f266df52",
   "metadata": {},
   "outputs": [],
   "source": [
    "solution = []\n",
    "for i, value in enumerate(y_prediction):\n",
    "    solution.append((i,value))"
   ]
  },
  {
   "cell_type": "code",
   "execution_count": 41,
   "id": "a48e0770",
   "metadata": {},
   "outputs": [
    {
     "data": {
      "text/html": [
       "<div>\n",
       "<style scoped>\n",
       "    .dataframe tbody tr th:only-of-type {\n",
       "        vertical-align: middle;\n",
       "    }\n",
       "\n",
       "    .dataframe tbody tr th {\n",
       "        vertical-align: top;\n",
       "    }\n",
       "\n",
       "    .dataframe thead th {\n",
       "        text-align: right;\n",
       "    }\n",
       "</style>\n",
       "<table border=\"1\" class=\"dataframe\">\n",
       "  <thead>\n",
       "    <tr style=\"text-align: right;\">\n",
       "      <th></th>\n",
       "      <th>0</th>\n",
       "      <th>1</th>\n",
       "    </tr>\n",
       "  </thead>\n",
       "  <tbody>\n",
       "    <tr>\n",
       "      <th>0</th>\n",
       "      <td>0</td>\n",
       "      <td>2853.467041</td>\n",
       "    </tr>\n",
       "    <tr>\n",
       "      <th>1</th>\n",
       "      <td>1</td>\n",
       "      <td>5742.239258</td>\n",
       "    </tr>\n",
       "    <tr>\n",
       "      <th>2</th>\n",
       "      <td>2</td>\n",
       "      <td>9678.098633</td>\n",
       "    </tr>\n",
       "    <tr>\n",
       "      <th>3</th>\n",
       "      <td>3</td>\n",
       "      <td>3978.034180</td>\n",
       "    </tr>\n",
       "    <tr>\n",
       "      <th>4</th>\n",
       "      <td>4</td>\n",
       "      <td>1635.021729</td>\n",
       "    </tr>\n",
       "    <tr>\n",
       "      <th>...</th>\n",
       "      <td>...</td>\n",
       "      <td>...</td>\n",
       "    </tr>\n",
       "    <tr>\n",
       "      <th>13480</th>\n",
       "      <td>13480</td>\n",
       "      <td>1670.307007</td>\n",
       "    </tr>\n",
       "    <tr>\n",
       "      <th>13481</th>\n",
       "      <td>13481</td>\n",
       "      <td>2437.840576</td>\n",
       "    </tr>\n",
       "    <tr>\n",
       "      <th>13482</th>\n",
       "      <td>13482</td>\n",
       "      <td>3133.522705</td>\n",
       "    </tr>\n",
       "    <tr>\n",
       "      <th>13483</th>\n",
       "      <td>13483</td>\n",
       "      <td>2004.950684</td>\n",
       "    </tr>\n",
       "    <tr>\n",
       "      <th>13484</th>\n",
       "      <td>13484</td>\n",
       "      <td>827.870911</td>\n",
       "    </tr>\n",
       "  </tbody>\n",
       "</table>\n",
       "<p>13485 rows × 2 columns</p>\n",
       "</div>"
      ],
      "text/plain": [
       "           0            1\n",
       "0          0  2853.467041\n",
       "1          1  5742.239258\n",
       "2          2  9678.098633\n",
       "3          3  3978.034180\n",
       "4          4  1635.021729\n",
       "...      ...          ...\n",
       "13480  13480  1670.307007\n",
       "13481  13481  2437.840576\n",
       "13482  13482  3133.522705\n",
       "13483  13483  2004.950684\n",
       "13484  13484   827.870911\n",
       "\n",
       "[13485 rows x 2 columns]"
      ]
     },
     "execution_count": 41,
     "metadata": {},
     "output_type": "execute_result"
    }
   ],
   "source": [
    "submission = pd.DataFrame(solution)\n",
    "submission"
   ]
  },
  {
   "cell_type": "code",
   "execution_count": 42,
   "id": "c601fcb1",
   "metadata": {},
   "outputs": [],
   "source": [
    "submission.columns=[\"id\", \"price\"]"
   ]
  },
  {
   "cell_type": "code",
   "execution_count": 43,
   "id": "f461c42f",
   "metadata": {},
   "outputs": [
    {
     "data": {
      "text/html": [
       "<div>\n",
       "<style scoped>\n",
       "    .dataframe tbody tr th:only-of-type {\n",
       "        vertical-align: middle;\n",
       "    }\n",
       "\n",
       "    .dataframe tbody tr th {\n",
       "        vertical-align: top;\n",
       "    }\n",
       "\n",
       "    .dataframe thead th {\n",
       "        text-align: right;\n",
       "    }\n",
       "</style>\n",
       "<table border=\"1\" class=\"dataframe\">\n",
       "  <thead>\n",
       "    <tr style=\"text-align: right;\">\n",
       "      <th></th>\n",
       "      <th>id</th>\n",
       "      <th>price</th>\n",
       "    </tr>\n",
       "  </thead>\n",
       "  <tbody>\n",
       "    <tr>\n",
       "      <th>0</th>\n",
       "      <td>0</td>\n",
       "      <td>2853.467041</td>\n",
       "    </tr>\n",
       "    <tr>\n",
       "      <th>1</th>\n",
       "      <td>1</td>\n",
       "      <td>5742.239258</td>\n",
       "    </tr>\n",
       "    <tr>\n",
       "      <th>2</th>\n",
       "      <td>2</td>\n",
       "      <td>9678.098633</td>\n",
       "    </tr>\n",
       "    <tr>\n",
       "      <th>3</th>\n",
       "      <td>3</td>\n",
       "      <td>3978.034180</td>\n",
       "    </tr>\n",
       "    <tr>\n",
       "      <th>4</th>\n",
       "      <td>4</td>\n",
       "      <td>1635.021729</td>\n",
       "    </tr>\n",
       "    <tr>\n",
       "      <th>...</th>\n",
       "      <td>...</td>\n",
       "      <td>...</td>\n",
       "    </tr>\n",
       "    <tr>\n",
       "      <th>13480</th>\n",
       "      <td>13480</td>\n",
       "      <td>1670.307007</td>\n",
       "    </tr>\n",
       "    <tr>\n",
       "      <th>13481</th>\n",
       "      <td>13481</td>\n",
       "      <td>2437.840576</td>\n",
       "    </tr>\n",
       "    <tr>\n",
       "      <th>13482</th>\n",
       "      <td>13482</td>\n",
       "      <td>3133.522705</td>\n",
       "    </tr>\n",
       "    <tr>\n",
       "      <th>13483</th>\n",
       "      <td>13483</td>\n",
       "      <td>2004.950684</td>\n",
       "    </tr>\n",
       "    <tr>\n",
       "      <th>13484</th>\n",
       "      <td>13484</td>\n",
       "      <td>827.870911</td>\n",
       "    </tr>\n",
       "  </tbody>\n",
       "</table>\n",
       "<p>13485 rows × 2 columns</p>\n",
       "</div>"
      ],
      "text/plain": [
       "          id        price\n",
       "0          0  2853.467041\n",
       "1          1  5742.239258\n",
       "2          2  9678.098633\n",
       "3          3  3978.034180\n",
       "4          4  1635.021729\n",
       "...      ...          ...\n",
       "13480  13480  1670.307007\n",
       "13481  13481  2437.840576\n",
       "13482  13482  3133.522705\n",
       "13483  13483  2004.950684\n",
       "13484  13484   827.870911\n",
       "\n",
       "[13485 rows x 2 columns]"
      ]
     },
     "execution_count": 43,
     "metadata": {},
     "output_type": "execute_result"
    }
   ],
   "source": [
    "submission.reset_index(drop=True)"
   ]
  },
  {
   "cell_type": "markdown",
   "id": "c8af8653",
   "metadata": {},
   "source": [
    "## Tunning"
   ]
  },
  {
   "cell_type": "code",
   "execution_count": 62,
   "id": "d318ec63",
   "metadata": {},
   "outputs": [
    {
     "name": "stdout",
     "output_type": "stream",
     "text": [
      "Root Mean Squared Error: 546.6108546046999\n"
     ]
    }
   ],
   "source": [
    "# Creamos una instancia del modelo XGBoost\n",
    "xgb_model = XGBRegressor(gamma=0.01, learning_rate=0.1, max_depth=6, n_estimators=200)\n",
    "# Ajustamos el modelo a los datos de entrenamiento\n",
    "xgb_model.fit(X_train, y_train)\n",
    "\n",
    "# Hacemos predicciones en los datos de prueba\n",
    "y_pred = xgb_model.predict(X_test)\n",
    "\n",
    "# Calculamos el error cuadrático medio\n",
    "mse = mean_squared_error(y_test, y_pred)\n",
    "\n",
    "# Calculamos la raíz del error cuadrático medio\n",
    "rmse = np.sqrt(mse)\n",
    "\n",
    "# Mostramos el resultado\n",
    "print(\"Root Mean Squared Error:\", rmse)\n"
   ]
  },
  {
   "cell_type": "code",
   "execution_count": 66,
   "id": "4c095a95",
   "metadata": {},
   "outputs": [
    {
     "data": {
      "text/plain": [
       "array([2908.215 , 5707.517 , 9634.991 , ..., 3171.6257, 2051.3054,\n",
       "        813.3031], dtype=float32)"
      ]
     },
     "execution_count": 66,
     "metadata": {},
     "output_type": "execute_result"
    }
   ],
   "source": [
    "y_prediction = xgb_model.predict(diamonds_test)\n",
    "y_prediction"
   ]
  },
  {
   "cell_type": "code",
   "execution_count": 67,
   "id": "f088d7d5",
   "metadata": {},
   "outputs": [
    {
     "data": {
      "text/html": [
       "<div>\n",
       "<style scoped>\n",
       "    .dataframe tbody tr th:only-of-type {\n",
       "        vertical-align: middle;\n",
       "    }\n",
       "\n",
       "    .dataframe tbody tr th {\n",
       "        vertical-align: top;\n",
       "    }\n",
       "\n",
       "    .dataframe thead th {\n",
       "        text-align: right;\n",
       "    }\n",
       "</style>\n",
       "<table border=\"1\" class=\"dataframe\">\n",
       "  <thead>\n",
       "    <tr style=\"text-align: right;\">\n",
       "      <th></th>\n",
       "      <th>id</th>\n",
       "      <th>price</th>\n",
       "    </tr>\n",
       "  </thead>\n",
       "  <tbody>\n",
       "    <tr>\n",
       "      <th>0</th>\n",
       "      <td>0</td>\n",
       "      <td>2908.215088</td>\n",
       "    </tr>\n",
       "    <tr>\n",
       "      <th>1</th>\n",
       "      <td>1</td>\n",
       "      <td>5707.517090</td>\n",
       "    </tr>\n",
       "    <tr>\n",
       "      <th>2</th>\n",
       "      <td>2</td>\n",
       "      <td>9634.991211</td>\n",
       "    </tr>\n",
       "    <tr>\n",
       "      <th>3</th>\n",
       "      <td>3</td>\n",
       "      <td>3947.952148</td>\n",
       "    </tr>\n",
       "    <tr>\n",
       "      <th>4</th>\n",
       "      <td>4</td>\n",
       "      <td>1644.677246</td>\n",
       "    </tr>\n",
       "    <tr>\n",
       "      <th>...</th>\n",
       "      <td>...</td>\n",
       "      <td>...</td>\n",
       "    </tr>\n",
       "    <tr>\n",
       "      <th>13480</th>\n",
       "      <td>13480</td>\n",
       "      <td>1627.846069</td>\n",
       "    </tr>\n",
       "    <tr>\n",
       "      <th>13481</th>\n",
       "      <td>13481</td>\n",
       "      <td>2367.106934</td>\n",
       "    </tr>\n",
       "    <tr>\n",
       "      <th>13482</th>\n",
       "      <td>13482</td>\n",
       "      <td>3171.625732</td>\n",
       "    </tr>\n",
       "    <tr>\n",
       "      <th>13483</th>\n",
       "      <td>13483</td>\n",
       "      <td>2051.305420</td>\n",
       "    </tr>\n",
       "    <tr>\n",
       "      <th>13484</th>\n",
       "      <td>13484</td>\n",
       "      <td>813.303101</td>\n",
       "    </tr>\n",
       "  </tbody>\n",
       "</table>\n",
       "<p>13485 rows × 2 columns</p>\n",
       "</div>"
      ],
      "text/plain": [
       "          id        price\n",
       "0          0  2908.215088\n",
       "1          1  5707.517090\n",
       "2          2  9634.991211\n",
       "3          3  3947.952148\n",
       "4          4  1644.677246\n",
       "...      ...          ...\n",
       "13480  13480  1627.846069\n",
       "13481  13481  2367.106934\n",
       "13482  13482  3171.625732\n",
       "13483  13483  2051.305420\n",
       "13484  13484   813.303101\n",
       "\n",
       "[13485 rows x 2 columns]"
      ]
     },
     "execution_count": 67,
     "metadata": {},
     "output_type": "execute_result"
    }
   ],
   "source": [
    "solution = []\n",
    "for i, value in enumerate(y_prediction):\n",
    "    solution.append((i,value))\n",
    "submission = pd.DataFrame(solution)\n",
    "submission.columns=[\"id\", \"price\"]\n",
    "submission.reset_index(drop=True)"
   ]
  },
  {
   "cell_type": "code",
   "execution_count": 68,
   "id": "b3b04b93",
   "metadata": {},
   "outputs": [],
   "source": [
    "from pathlib import Path\n",
    "filepath = Path('rob_scl.csv', index=False)  \n",
    "filepath.parent.mkdir(parents=True, exist_ok=True) \n",
    "submission.to_csv(filepath, index=False, encoding='utf-8')"
   ]
  },
  {
   "cell_type": "code",
   "execution_count": 61,
   "id": "67bb1157",
   "metadata": {},
   "outputs": [
    {
     "name": "stdout",
     "output_type": "stream",
     "text": [
      "Root Mean Squared Error: 559.1038725671015\n"
     ]
    }
   ],
   "source": [
    "# Creamos una instancia del modelo XGBoost\n",
    "xgb_model = XGBRegressor(gamma=0.1, learning_rate=0.1, max_depth=6, n_estimators=100)\n",
    "\n",
    "\n",
    "# Ajustamos el modelo a los datos de entrenamiento\n",
    "xgb_model.fit(X_train, y_train)\n",
    "\n",
    "# Hacemos predicciones en los datos de prueba\n",
    "y_pred = xgb_model.predict(X_test)\n",
    "\n",
    "# Calculamos el error cuadrático medio\n",
    "mse = mean_squared_error(y_test, y_pred)\n",
    "\n",
    "# Calculamos la raíz del error cuadrático medio\n",
    "rmse = np.sqrt(mse)\n",
    "\n",
    "# Mostramos el resultado\n",
    "print(\"Root Mean Squared Error:\", rmse)\n"
   ]
  },
  {
   "cell_type": "code",
   "execution_count": 38,
   "id": "36356d17",
   "metadata": {},
   "outputs": [],
   "source": [
    "from pathlib import Path\n",
    "filepath = Path('outputrob_xgb.csv', index=False)  \n",
    "filepath.parent.mkdir(parents=True, exist_ok=True) \n",
    "submission.to_csv(filepath, index=False, encoding='utf-8')"
   ]
  },
  {
   "cell_type": "markdown",
   "id": "3d519fb3",
   "metadata": {},
   "source": [
    "## Scaling"
   ]
  },
  {
   "cell_type": "markdown",
   "id": "a08eaf4e",
   "metadata": {},
   "source": [
    "### _RobustScaler()_"
   ]
  },
  {
   "cell_type": "code",
   "execution_count": null,
   "id": "5dea002a",
   "metadata": {},
   "outputs": [],
   "source": [
    "scaler = RobustScaler().fit(X_train)\n",
    "X_train_rob_scaled = scaler.transform(X_train)\n",
    "print('X_lab_train_rob_scaled', X_train_rob_scaled)\n",
    "print('\\n')\n",
    "\n",
    "scaler = RobustScaler().fit(X_test)\n",
    "X_test_rob_scaled = scaler.transform(X_test)\n",
    "print('X_lab_test_rob_scaled', X_test_rob_scaled)\n",
    "print('\\n')"
   ]
  },
  {
   "cell_type": "markdown",
   "id": "896b84ed",
   "metadata": {},
   "source": [
    "### _Robust Scaled to Random Forest (test-in-training)_"
   ]
  },
  {
   "cell_type": "code",
   "execution_count": null,
   "id": "e8a07fcd",
   "metadata": {},
   "outputs": [],
   "source": [
    "%%time\n",
    "\n",
    "# Model definition\n",
    "\n",
    "model = RandomForestRegressor()\n",
    "print(type(model))"
   ]
  },
  {
   "cell_type": "code",
   "execution_count": null,
   "id": "8efb7087",
   "metadata": {},
   "outputs": [],
   "source": [
    "%%time\n",
    "\n",
    "# Model training\n",
    "\n",
    "weights = model.fit(X, y)\n",
    "print(type(weights))"
   ]
  },
  {
   "cell_type": "code",
   "execution_count": null,
   "id": "9bb02b83",
   "metadata": {},
   "outputs": [],
   "source": [
    "%%time\n",
    "\n",
    "# Model predictions\n",
    "\n",
    "predictions = model.predict(X_test)\n",
    "print(type(predictions))"
   ]
  },
  {
   "cell_type": "code",
   "execution_count": null,
   "id": "13aac894",
   "metadata": {},
   "outputs": [],
   "source": [
    "# RMSE\n",
    "\n",
    "tricky_error = round(mean_squared_error(y_test, predictions)**0.5, 5)\n",
    "print(f\"Speed predictions error is: +/- {tricky_error} m/s (Mean speed is around: 40 m/s and Std is around: 2 m/s)\")"
   ]
  },
  {
   "cell_type": "code",
   "execution_count": null,
   "id": "fcb40c57",
   "metadata": {},
   "outputs": [],
   "source": [
    "y_prediction = model.predict(diamonds_test)"
   ]
  },
  {
   "cell_type": "code",
   "execution_count": null,
   "id": "ca1efd9c",
   "metadata": {},
   "outputs": [],
   "source": [
    "y_prediction"
   ]
  },
  {
   "cell_type": "code",
   "execution_count": null,
   "id": "09d23ea4",
   "metadata": {},
   "outputs": [],
   "source": [
    "solution = []\n",
    "for i, value in enumerate(y_prediction):\n",
    "    solution.append((i,value))"
   ]
  },
  {
   "cell_type": "code",
   "execution_count": null,
   "id": "a75b3665",
   "metadata": {},
   "outputs": [],
   "source": [
    "submission = pd.DataFrame(solution)\n",
    "submission"
   ]
  },
  {
   "cell_type": "code",
   "execution_count": null,
   "id": "4b1120c7",
   "metadata": {},
   "outputs": [],
   "source": [
    "submission.columns=[\"id\", \"price\"]"
   ]
  },
  {
   "cell_type": "code",
   "execution_count": null,
   "id": "eaa10cfa",
   "metadata": {},
   "outputs": [],
   "source": [
    "submission.reset_index(drop=True)"
   ]
  },
  {
   "cell_type": "code",
   "execution_count": null,
   "id": "9c6a9706",
   "metadata": {},
   "outputs": [],
   "source": [
    "from pathlib import Path\n",
    "filepath = Path('./predictions/randomforest_rob_203.csv', index=False)  \n",
    "filepath.parent.mkdir(parents=True, exist_ok=True) \n",
    "submission.to_csv(filepath, index=False, encoding='utf-8')"
   ]
  },
  {
   "cell_type": "markdown",
   "id": "8234ccf2",
   "metadata": {},
   "source": [
    "### _Robust Scaled to Random Forest (the-real-stuff)_"
   ]
  },
  {
   "cell_type": "code",
   "execution_count": null,
   "id": "b0850b9a",
   "metadata": {},
   "outputs": [],
   "source": [
    "%%time\n",
    "\n",
    "# Model definition\n",
    "\n",
    "model = LinearRegression()\n",
    "print(type(model))"
   ]
  },
  {
   "cell_type": "code",
   "execution_count": null,
   "id": "246427c3",
   "metadata": {},
   "outputs": [],
   "source": [
    "%%time\n",
    "\n",
    "# Model training\n",
    "\n",
    "weights = model.fit(X_train_rob_scaled, y_train)\n",
    "print(type(weights))"
   ]
  },
  {
   "cell_type": "code",
   "execution_count": null,
   "id": "973d5ed8",
   "metadata": {},
   "outputs": [],
   "source": [
    "%%time\n",
    "\n",
    "# Model predictions\n",
    "\n",
    "predictions = model.predict(X_test_rob_scaled)\n",
    "print(type(predictions))"
   ]
  },
  {
   "cell_type": "code",
   "execution_count": null,
   "id": "7219e845",
   "metadata": {},
   "outputs": [],
   "source": [
    "# RMSE\n",
    "\n",
    "real_error = round(mean_squared_error(y_test, predictions)**0.5, 5)\n",
    "print(f\"Speed predictions error is: +/- {real_error} m/s (Mean speed is around: 40 m/s and Std is around: 2 m/s)\")"
   ]
  },
  {
   "cell_type": "code",
   "execution_count": null,
   "id": "8089cf96",
   "metadata": {},
   "outputs": [],
   "source": [
    "# RMSE comparison\n",
    "\n",
    "print(f\"The real_error is {round(real_error/tricky_error, 2)} times the tricky_error\")"
   ]
  },
  {
   "cell_type": "markdown",
   "id": "6d9c5ad2",
   "metadata": {},
   "source": [
    "### _StandardScaler()_"
   ]
  },
  {
   "cell_type": "code",
   "execution_count": null,
   "id": "833e45e7",
   "metadata": {},
   "outputs": [],
   "source": [
    "scaler = StandardScaler().fit(X_train)\n",
    "print(scaler.n_features_in_)\n",
    "X_train_std_scaled = scaler.transform(X_train)\n",
    "print('X_train_std_scaled', X_train_std_scaled)\n",
    "print('\\n')\n",
    "\n",
    "scaler = StandardScaler().fit(X_test)\n",
    "print(scaler.n_features_in_)\n",
    "X_test_std_scaled = scaler.transform(X_test)\n",
    "print('X_test_std_scaled', X_test_std_scaled)\n",
    "print('\\n')"
   ]
  },
  {
   "cell_type": "markdown",
   "id": "4869b454",
   "metadata": {},
   "source": [
    "### _Standard Scaled to Random Forest (test-in-training)_"
   ]
  },
  {
   "cell_type": "code",
   "execution_count": null,
   "id": "741f1064",
   "metadata": {},
   "outputs": [],
   "source": [
    "%%time\n",
    "\n",
    "# Model definition\n",
    "\n",
    "model = LinearRegression()\n",
    "print(type(model))"
   ]
  },
  {
   "cell_type": "code",
   "execution_count": null,
   "id": "25f3578f",
   "metadata": {},
   "outputs": [],
   "source": [
    "%%time\n",
    "\n",
    "# Model training\n",
    "\n",
    "weights = model.fit(X, y)\n",
    "print(type(weights))"
   ]
  },
  {
   "cell_type": "code",
   "execution_count": null,
   "id": "eb6a3780",
   "metadata": {},
   "outputs": [],
   "source": [
    "%%time\n",
    "\n",
    "# Model predictions\n",
    "\n",
    "predictions = model.predict(X_test_std_scaled)\n",
    "print(type(predictions))"
   ]
  },
  {
   "cell_type": "code",
   "execution_count": null,
   "id": "589289d5",
   "metadata": {},
   "outputs": [],
   "source": [
    "# RMSE\n",
    "\n",
    "tricky_error = round(mean_squared_error(y_test, predictions)**0.5, 5)\n",
    "print(f\"Speed predictions error is: +/- {tricky_error} m/s (Mean speed is around: 40 m/s and Std is around: 2 m/s)\")"
   ]
  },
  {
   "cell_type": "markdown",
   "id": "e85332a8",
   "metadata": {},
   "source": [
    "### _Standard Scaled to Random Forest (the-real-stuff)_"
   ]
  },
  {
   "cell_type": "code",
   "execution_count": null,
   "id": "73deeb5c",
   "metadata": {},
   "outputs": [],
   "source": [
    "%%time\n",
    "\n",
    "# Model definition\n",
    "\n",
    "model = LinearRegression()\n",
    "print(type(model))"
   ]
  },
  {
   "cell_type": "code",
   "execution_count": null,
   "id": "2eb5d9a2",
   "metadata": {},
   "outputs": [],
   "source": [
    "%%time\n",
    "\n",
    "# Model training\n",
    "\n",
    "weights = model.fit(X_train_std_scaled, y_train)\n",
    "print(type(weights))"
   ]
  },
  {
   "cell_type": "code",
   "execution_count": null,
   "id": "e614173e",
   "metadata": {},
   "outputs": [],
   "source": [
    "%%time\n",
    "\n",
    "# Model predictions\n",
    "\n",
    "predictions = model.predict(X_test_std_scaled)\n",
    "print(type(predictions))"
   ]
  },
  {
   "cell_type": "code",
   "execution_count": null,
   "id": "6556f721",
   "metadata": {},
   "outputs": [],
   "source": [
    "# RMSE\n",
    "\n",
    "real_error = round(mean_squared_error(y_test, predictions)**0.5, 5)\n",
    "print(f\"Speed predictions error is: +/- {real_error} m/s (Mean speed is around: 40 m/s and Std is around: 2 m/s)\")"
   ]
  },
  {
   "cell_type": "code",
   "execution_count": null,
   "id": "b46f3a7b",
   "metadata": {},
   "outputs": [],
   "source": [
    "# RMSE comparison\n",
    "\n",
    "print(f\"The real_error is {round(real_error/tricky_error, 2)} times the tricky_error\")"
   ]
  }
 ],
 "metadata": {
  "kernelspec": {
   "display_name": "Python (m3_env)",
   "language": "python",
   "name": "m3_env"
  },
  "language_info": {
   "codemirror_mode": {
    "name": "ipython",
    "version": 3
   },
   "file_extension": ".py",
   "mimetype": "text/x-python",
   "name": "python",
   "nbconvert_exporter": "python",
   "pygments_lexer": "ipython3",
   "version": "3.10.13"
  }
 },
 "nbformat": 4,
 "nbformat_minor": 5
}
